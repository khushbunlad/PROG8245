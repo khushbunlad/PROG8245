{
 "cells": [
  {
   "cell_type": "markdown",
   "metadata": {},
   "source": [
    "## Project: Applying NLP to Major Tasks\n",
    "#### PROG8245- Machine Learning Programming\n",
    "\n",
    "| Professor     | Islam Mahmoud               |\n",
    "|---------------|-----------------------------|\n",
    "| Email         | imahmoud@conestogac.on.ca   |\n",
    "| Deadline      | Monday, December 9th, 2024  |\n",
    "| Group         | Group 10                    |\n",
    "| Members       | Burman, Jaiv Chaitanya      |\n",
    "|               | Lad, Khushbu Nileshkumar    |\n",
    "|               | Madhav, Akshata Ajay        |\n"
   ]
  },
  {
   "cell_type": "markdown",
   "metadata": {},
   "source": [
    "### Data Collection"
   ]
  },
  {
   "cell_type": "markdown",
   "metadata": {},
   "source": [
    "#### Collect a dataset of product reviews. "
   ]
  },
  {
   "cell_type": "markdown",
   "metadata": {},
   "source": [
    "##### Rectangular Dataset\n",
    "\n",
    "- Kaggle Reference : https://www.kaggle.com/datasets/konradb/inside-airbnb-usa/data\n",
    "- Utilised reviews for : Hawaii\n",
    "    1. reviews_detailed.csv\n",
    "    2. listings.csv"
   ]
  },
  {
   "cell_type": "markdown",
   "metadata": {},
   "source": [
    "##### Import Libraries"
   ]
  },
  {
   "cell_type": "code",
   "execution_count": 1,
   "metadata": {},
   "outputs": [],
   "source": [
    "import numpy as np\n",
    "import pandas as pd \n",
    "from scipy import stats\n",
    "import matplotlib.pyplot as plt"
   ]
  },
  {
   "cell_type": "markdown",
   "metadata": {},
   "source": [
    "##### Load Dataset clases and methods"
   ]
  },
  {
   "cell_type": "code",
   "execution_count": null,
   "metadata": {},
   "outputs": [],
   "source": [
    "class ReviewsDataset:\n",
    "    def __init__(self):\n",
    "        self.listing_file_path = './Dataset/FinalProject/listings.csv'\n",
    "        self.listing_data = None\n",
    "        self.reviews_file_path = './Dataset/FinalProject/reviews_detailed.csv'\n",
    "        self.reviews_data = None\n",
    "    \n",
    "    # Loads the data from a CSV file.\n",
    "    def load_data(self):\n",
    "        self.listing_data = pd.read_csv(self.listing_file_path)\n",
    "        print(f\"---> Load Listing List \\r\\n\")\n",
    "        print(f\"listings.csv : Data loaded successfully.\")\n",
    "        print(f\"Total Records : {self.listing_data.shape[0]} \\r\\n\")\n",
    "\n",
    "        self.reviews_data = pd.read_csv(self.reviews_file_path)\n",
    "        return self.data"
   ]
  },
  {
   "cell_type": "markdown",
   "metadata": {},
   "source": [
    "#### Annotate the dataset with labels of positive, negative or neutral sentiment, based on collected data."
   ]
  },
  {
   "cell_type": "markdown",
   "metadata": {},
   "source": [
    "### Preprocessing"
   ]
  },
  {
   "cell_type": "markdown",
   "metadata": {},
   "source": [
    "#### Perform necessary text preprocessing steps such as tokenization, stop-word removal, stemming/lemmatization, and lowercasing. "
   ]
  },
  {
   "cell_type": "markdown",
   "metadata": {},
   "source": [
    "#### Remove any irrelevant columns, handle missing values, and clean text data by removing special characters, stopwords, and performing stemming/lemmatization"
   ]
  },
  {
   "cell_type": "markdown",
   "metadata": {},
   "source": [
    "#### Handle specific challenges of used text like hashtags, emojis, and slang."
   ]
  },
  {
   "cell_type": "markdown",
   "metadata": {},
   "source": [
    "### Feature Extraction and Model Comparison"
   ]
  },
  {
   "cell_type": "markdown",
   "metadata": {},
   "source": [
    "#### Explore different feature representation methods such as bag-of-words, TF-IDF, word embeddings (e.g., Word2Vec or GloVe), or contextual embeddings (e.g., BERT or GPT). Experiment with 3 different feature extraction techniques to capture meaningful representations of social media text where the 3 techniques should be of different word embedding categories."
   ]
  },
  {
   "cell_type": "markdown",
   "metadata": {},
   "source": [
    "#### Model Building\n",
    "- Choose a suitable machine learning algorithm (e.g., Naive Bayes, SVM, or neural networks) or deep learning model\n",
    "- Split the dataset into training and testing sets.\n",
    "- Train the selected model using the training data, evaluate and record its performance on the training and testing data."
   ]
  },
  {
   "cell_type": "markdown",
   "metadata": {},
   "source": [
    "#### Interpretation of results\n",
    "- Visualize your results\n",
    "- Compare different feature representation\n",
    "- Reach a conclusion on which is the best Embedding technique to use for your model"
   ]
  }
 ],
 "metadata": {
  "kernelspec": {
   "display_name": "venvPROG8245",
   "language": "python",
   "name": "python3"
  },
  "language_info": {
   "codemirror_mode": {
    "name": "ipython",
    "version": 3
   },
   "file_extension": ".py",
   "mimetype": "text/x-python",
   "name": "python",
   "nbconvert_exporter": "python",
   "pygments_lexer": "ipython3",
   "version": "3.12.6"
  }
 },
 "nbformat": 4,
 "nbformat_minor": 2
}
