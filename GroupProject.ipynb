{
 "cells": [
  {
   "cell_type": "markdown",
   "metadata": {},
   "source": [
    "## Project: Applying NLP to Major Tasks\n",
    "#### PROG8245- Machine Learning Programming\n",
    "\n",
    "| Professor     | Islam Mahmoud               |\n",
    "|---------------|-----------------------------|\n",
    "| Email         | imahmoud@conestogac.on.ca   |\n",
    "| Deadline      | Monday, December 9th, 2024  |\n",
    "| Group         | Group 10                    |\n",
    "| Members       | Burman, Jaiv Chaitanya      |\n",
    "|               | Lad, Khushbu Nileshkumar    |\n",
    "|               | Madhav, Akshata Ajay        |\n"
   ]
  },
  {
   "cell_type": "markdown",
   "metadata": {},
   "source": [
    "### Data Collection"
   ]
  },
  {
   "cell_type": "markdown",
   "metadata": {},
   "source": [
    "#### Collect a dataset of product reviews. "
   ]
  },
  {
   "cell_type": "markdown",
   "metadata": {},
   "source": [
    "##### Rectangular Dataset\n",
    "\n",
    "- Kaggle Reference : https://www.kaggle.com/datasets/konradb/inside-airbnb-usa/data\n",
    "- Utilised reviews for : Hawaii\n",
    "    1. reviews_detailed.csv\n",
    "    2. listings.csv"
   ]
  },
  {
   "cell_type": "markdown",
   "metadata": {},
   "source": [
    "##### Import Libraries"
   ]
  },
  {
   "cell_type": "code",
   "execution_count": null,
   "metadata": {},
   "outputs": [],
   "source": [
    "import numpy as np\n",
    "import pandas as pd \n",
    "from scipy import stats\n",
    "import matplotlib.pyplot as plt\n",
    "from nltk.stem import WordNetLemmatizer\n",
    "from nltk.corpus import stopwords\n",
    "from nltk.tokenize import word_tokenize, sent_tokenize\n",
    "from nltk.stem import PorterStemmer  # For stemming\n",
    "from nltk.stem import WordNetLemmatizer  # For lemmatization\n",
    "from deep_translator import GoogleTranslator # For translating review\n",
    "import string\n",
    "import nltk\n",
    "nltk.download('wordnet')\n",
    "from multiprocessing import Pool\n",
    "from langdetect import detect, DetectorFactory\n",
    "from langdetect.lang_detect_exception import LangDetectException\n",
    "from tqdm import tqdm\n",
    "from vaderSentiment.vaderSentiment import SentimentIntensityAnalyzer\n",
    "import os\n"
   ]
  },
  {
   "cell_type": "markdown",
   "metadata": {},
   "source": [
    "##### Load Dataset classes and methods"
   ]
  },
  {
   "cell_type": "code",
   "execution_count": null,
   "metadata": {},
   "outputs": [],
   "source": [
    "class ReviewsDataset:\n",
    "    def __init__(self):\n",
    "        self.listing_file_path = './Dataset/FinalProject/listings.csv'\n",
    "        self.listing_data = None\n",
    "        self.reviews_file_path = './Dataset/FinalProject/reviews_detailed.csv'\n",
    "        self.reviews_data = None\n",
    "        self.merged_data=None\n",
    "        self.preprocessed_reviews_file_path = './Dataset/FinalProject/processed_reviews.csv'\n",
    "        self.is_preprocessed = False\n",
    "    \n",
    "    # Loads the data from a CSV file.\n",
    "    def load_data(self):\n",
    "        self.listing_data = pd.read_csv(self.listing_file_path)\n",
    "        print(f\"---> Load Listing List \\r\\n\")\n",
    "        print(f\"listings.csv : Data loaded successfully.\")\n",
    "        print(f\"Total Records : {self.listing_data.shape[0]} \\r\\n\")\n",
    "\n",
    "        print(f\"---> Load Reviews List \\r\\n\")\n",
    "        if(os.path.exists(self.preprocessed_reviews_file_path)):\n",
    "            self.reviews_data = pd.read_csv(self.preprocessed_reviews_file_path)\n",
    "            print(f\"reviews_detailed.csv : Data loaded successfully. ( Preprocessed data )\")\n",
    "            self.is_preprocessed=True\n",
    "        else:\n",
    "            self.reviews_data = pd.read_csv(self.reviews_file_path)\n",
    "            print(f\"processed_reviews.csv : Data loaded successfully.\")\n",
    "        print(f\"Total Records : {self.reviews_data.shape[0]} \\r\\n\")\n",
    "\n",
    "    # Print shape of data\n",
    "    def print_shape(self):\n",
    "        try:\n",
    "            print(f\"Total Records : Listing : {self.listing_data.shape[0]}\")\n",
    "        except:\n",
    "            print(f\"Total Records : Listing : Not initialized\")\n",
    "        try:\n",
    "            print(f\"Total Records : Review  : {self.reviews_data.shape[0]}\")\n",
    "        except:\n",
    "            print(f\"Total Records : Review : Not initialized\")\n",
    "        try:\n",
    "            print(f\"Total Records : Merged  : {self.merged_data.shape[0]}\")\n",
    "        except:\n",
    "            print(f\"Total Records : Merged : Not initialized\")\n",
    "\n",
    "    \n",
    "    def merge_data(self):\n",
    "        # Merge data using common field recepe Id\n",
    "        self.merged_data = pd.merge(self.listing_data, self.reviews_data, left_on='id', right_on='listing_id')\n",
    "        print(\"Data Merged Successfully\")\n",
    "        print(f\"Total Records : {self.merged_data.shape[0]} \\r\\n\")\n",
    "\n"
   ]
  },
  {
   "cell_type": "markdown",
   "metadata": {},
   "source": [
    "##### The Main function : initialize class object and load data"
   ]
  },
  {
   "cell_type": "code",
   "execution_count": null,
   "metadata": {},
   "outputs": [],
   "source": [
    "if __name__ == \"__main__\":\n",
    "    # Create an instance of the ReviewsDataset  class and load data\n",
    "    review_dataset = ReviewsDataset()\n",
    "    review_dataset.load_data()\n"
   ]
  },
  {
   "cell_type": "code",
   "execution_count": null,
   "metadata": {},
   "outputs": [],
   "source": [
    "review_dataset.reviews_data.head(3)"
   ]
  },
  {
   "cell_type": "code",
   "execution_count": null,
   "metadata": {},
   "outputs": [],
   "source": [
    "review_dataset.listing_data.head(3)"
   ]
  },
  {
   "cell_type": "markdown",
   "metadata": {},
   "source": [
    "##### Null check : Eliminate missing values : listing data"
   ]
  },
  {
   "cell_type": "code",
   "execution_count": null,
   "metadata": {},
   "outputs": [],
   "source": [
    "review_dataset.listing_data.isnull().sum()"
   ]
  },
  {
   "cell_type": "code",
   "execution_count": null,
   "metadata": {},
   "outputs": [],
   "source": [
    "review_dataset.listing_data.dropna(inplace=True)"
   ]
  },
  {
   "cell_type": "markdown",
   "metadata": {},
   "source": [
    "##### Null check : Eliminate missing values : reviews detail"
   ]
  },
  {
   "cell_type": "code",
   "execution_count": null,
   "metadata": {},
   "outputs": [],
   "source": [
    "review_dataset.reviews_data.isnull().sum()"
   ]
  },
  {
   "cell_type": "code",
   "execution_count": null,
   "metadata": {},
   "outputs": [],
   "source": [
    "review_dataset.reviews_data.dropna(inplace=True)"
   ]
  },
  {
   "cell_type": "markdown",
   "metadata": {},
   "source": [
    "##### Review shape after null data elimination"
   ]
  },
  {
   "cell_type": "code",
   "execution_count": null,
   "metadata": {},
   "outputs": [],
   "source": [
    "review_dataset.print_shape()"
   ]
  },
  {
   "cell_type": "markdown",
   "metadata": {},
   "source": [
    "### Annotate the dataset with labels of positive, negative or neutral sentiment, based on collected data."
   ]
  },
  {
   "cell_type": "markdown",
   "metadata": {},
   "source": [
    "**Tool** : VADER (Valence Aware Dictionary and sEntiment Reasoner)"
   ]
  },
  {
   "cell_type": "code",
   "execution_count": null,
   "metadata": {},
   "outputs": [],
   "source": [
    "# Initialize the analyzer\n",
    "analyzer = SentimentIntensityAnalyzer()\n",
    "\n",
    "# Function to get sentiment scores\n",
    "def get_sentiment_scores(text):\n",
    "    sentiment = analyzer.polarity_scores(text)\n",
    "    result =\"\"\n",
    "    if(sentiment['compound']<0.5):\n",
    "        result=\"Bad\"\n",
    "    elif(sentiment['compound']>0.5):\n",
    "        result=\"Good\"\n",
    "    elif(sentiment['compound']==0.5):\n",
    "        result=\"Neutral\"\n",
    "    return pd.Series([sentiment['neg'], sentiment['neu'], sentiment['pos'], sentiment['compound'],result ])\n",
    "\n",
    "# tqdm.pandas()\n",
    "# review_dataset.reviews_data[['negative', 'neutral', 'positive', 'compound','sentiment']] = review_dataset.reviews_data['comments'].progress_apply(get_sentiment_scores)\n",
    "# review_dataset.reviews_data.to_csv(review_dataset.preprocessed_reviews_file_path, index=False)\n",
    "\n",
    "\n",
    "# If previously saved data found, do not reprocess\n",
    "if(review_dataset.is_preprocessed == False):\n",
    "    tqdm.pandas()\n",
    "    review_dataset.reviews_data[['negative', 'neutral', 'positive', 'compound','sentiment']] = review_dataset.reviews_data['comments'].progress_apply(get_sentiment_scores)\n",
    "else:\n",
    "    # Show message if data is already loaded\n",
    "    print(\"Note : Loaded already saved preprocessed data. Go to next step.\")"
   ]
  },
  {
   "cell_type": "markdown",
   "metadata": {},
   "source": [
    "##### Plot the results"
   ]
  },
  {
   "cell_type": "code",
   "execution_count": null,
   "metadata": {},
   "outputs": [],
   "source": [
    "sentiment_counts = review_dataset.reviews_data['sentiment'].value_counts()\n",
    "print(sentiment_counts)\n",
    "# Plotting sentiment distribution without border\n",
    "plt.figure(figsize=(4, 3))\n",
    "sentiment_counts.plot(\n",
    "    kind='bar', \n",
    "    color=['green', 'gray', 'red'], \n",
    "    alpha=0.7, \n",
    "    edgecolor='none'  # Removes border from bars\n",
    ")\n",
    "plt.title('Sentiment Distribution of Reviews')\n",
    "plt.xlabel('Sentiment')\n",
    "plt.ylabel('Count')\n",
    "plt.xticks(rotation=0)\n",
    "plt.tight_layout()"
   ]
  },
  {
   "cell_type": "markdown",
   "metadata": {},
   "source": [
    "### Preprocessing"
   ]
  },
  {
   "cell_type": "markdown",
   "metadata": {},
   "source": [
    "1. Perform necessary text preprocessing steps such as tokenization, stop-word removal, stemming/lemmatization, and lowercasing. \n",
    "2. Remove any irrelevant columns, handle missing values, and clean text data by removing special characters, stopwords, and performing stemming/lemmatization\n",
    "3. Handle specific challenges of used text like hashtags, emojis, and slang."
   ]
  },
  {
   "cell_type": "code",
   "execution_count": null,
   "metadata": {},
   "outputs": [],
   "source": [
    "\n",
    "lemmatizer = WordNetLemmatizer()\n",
    "stop_words = set(stopwords.words('english'))\n",
    "translator = GoogleTranslator(source='auto', target='en')\n",
    "\n",
    "def PreprocessReviewComment(comment):\n",
    "    try:\n",
    "        # Ensure the input is a string\n",
    "        if not isinstance(comment, str):\n",
    "            return \"\",[]\n",
    "\n",
    "        # Translate to english if other language is detected\n",
    "        # try:\n",
    "        #     lang = detect(comment)\n",
    "        # except LangDetectException:\n",
    "        #     lang = \"unknown\"\n",
    "        translated = comment\n",
    "        # if lang != \"en\": \n",
    "        #     translated = translator.translate(comment)\n",
    "\n",
    "        # Tokenization\n",
    "        word_tokens = word_tokenize(translated) \n",
    "\n",
    "        # Remove Stop words and case folding\n",
    "        stop_words_removed = [word for word in word_tokens if word.lower() not in stop_words]\n",
    "\n",
    "        # Remove punctuation\n",
    "        punctuation_removed = [word for word in stop_words_removed if word not in string.punctuation]\n",
    "\n",
    "        # Lemmatization\n",
    "        lemmatize_words = [lemmatizer.lemmatize(word) for word in punctuation_removed]\n",
    "\n",
    "        cleaned_comment = ' '.join(lemmatize_words)\n",
    "        return cleaned_comment,lemmatize_words\n",
    "    except:\n",
    "        return \"FAILED\",[\"FAILED\"]\n",
    "    \n",
    "if(review_dataset.is_preprocessed == False):\n",
    "    # Initialise plugin for progress\n",
    "    tqdm.pandas()\n",
    "    # Preprocess data\n",
    "    review_dataset.reviews_data[['CleanedComment', 'LemmatizedWords']] = review_dataset.reviews_data['comments'].progress_apply(\n",
    "        lambda x: pd.Series(PreprocessReviewComment(x))\n",
    "    )\n",
    "else:\n",
    "    # Show message if data is already loaded\n",
    "    print(\"Note : Loaded already saved preprocessed data. Go to next step.\")"
   ]
  },
  {
   "cell_type": "markdown",
   "metadata": {},
   "source": [
    "##### Save Preprocessed data in file\n",
    "- Preprocessing is time taking\n",
    "- Save and reuse preprocessed data if available\n",
    "- Translation is taking time so commented (will uncomment and run if time permits)"
   ]
  },
  {
   "cell_type": "code",
   "execution_count": null,
   "metadata": {},
   "outputs": [],
   "source": [
    "# Save intermediate data\n",
    "if(review_dataset.is_preprocessed == False):\n",
    "    review_dataset.reviews_data.to_csv(review_dataset.preprocessed_reviews_file_path, index=False)\n",
    "    print(\"Data saved successfully at {}\")\n"
   ]
  },
  {
   "cell_type": "markdown",
   "metadata": {},
   "source": [
    "##### Review processed data"
   ]
  },
  {
   "cell_type": "code",
   "execution_count": null,
   "metadata": {},
   "outputs": [],
   "source": [
    "review_dataset.reviews_data.head(5)"
   ]
  },
  {
   "cell_type": "markdown",
   "metadata": {},
   "source": [
    "### Feature Extraction and Model Comparison"
   ]
  },
  {
   "cell_type": "markdown",
   "metadata": {},
   "source": [
    "Explore different feature representation methods such as bag-of-words, TF-IDF, word embeddings (e.g., Word2Vec or GloVe), or contextual embeddings (e.g., BERT or GPT). Experiment with 3 different feature extraction techniques to capture meaningful representations of social media text where the 3 techniques should be of different word embedding categories."
   ]
  },
  {
   "cell_type": "markdown",
   "metadata": {},
   "source": [
    "#### TF-IDF"
   ]
  },
  {
   "cell_type": "markdown",
   "metadata": {},
   "source": [
    "#### Model Building\n",
    "- Choose a suitable machine learning algorithm (e.g., Naive Bayes, SVM, or neural networks) or deep learning model\n",
    "- Split the dataset into training and testing sets.\n",
    "- Train the selected model using the training data, evaluate and record its performance on the training and testing data."
   ]
  },
  {
   "cell_type": "markdown",
   "metadata": {},
   "source": [
    "#### Interpretation of results\n",
    "- Visualize your results\n",
    "- Compare different feature representation\n",
    "- Reach a conclusion on which is the best Embedding technique to use for your model"
   ]
  },
  {
   "cell_type": "markdown",
   "metadata": {},
   "source": [
    "#### Reference\n",
    "https://www.kaggle.com/datasets/konradb/inside-airbnb-usa/data"
   ]
  }
 ],
 "metadata": {
  "kernelspec": {
   "display_name": "venvPROG8245",
   "language": "python",
   "name": "python3"
  },
  "language_info": {
   "codemirror_mode": {
    "name": "ipython",
    "version": 3
   },
   "file_extension": ".py",
   "mimetype": "text/x-python",
   "name": "python",
   "nbconvert_exporter": "python",
   "pygments_lexer": "ipython3",
   "version": "3.12.6"
  }
 },
 "nbformat": 4,
 "nbformat_minor": 2
}
