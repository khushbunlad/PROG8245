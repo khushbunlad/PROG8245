{
 "cells": [
  {
   "cell_type": "markdown",
   "metadata": {},
   "source": [
    "## Project: Applying NLP to Major Tasks\n",
    "#### PROG8245- Machine Learning Programming\n",
    "\n",
    "| Professor     | Islam Mahmoud               |\n",
    "|---------------|-----------------------------|\n",
    "| Email         | imahmoud@conestogac.on.ca   |\n",
    "| Group         | Group 10                    |\n",
    "| Members       | Burman, Jaiv Chaitanya      |\n",
    "|               | Lad, Khushbu Nileshkumar    |\n",
    "|               | Madhav, Akshata Ajay        |\n"
   ]
  }
 ],
 "metadata": {
  "language_info": {
   "name": "python"
  }
 },
 "nbformat": 4,
 "nbformat_minor": 2
}
