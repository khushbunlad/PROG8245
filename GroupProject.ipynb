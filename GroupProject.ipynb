{
 "cells": [
  {
   "cell_type": "markdown",
   "metadata": {},
   "source": [
    "## Project: Applying NLP to Major Tasks\n",
    "#### PROG8245- Machine Learning Programming\n",
    "\n",
    "| Professor     | Islam Mahmoud               |\n",
    "|---------------|-----------------------------|\n",
    "| Email         | imahmoud@conestogac.on.ca   |\n",
    "| Deadline      | Monday, December 9th, 2024  |\n",
    "| Group         | Group 10                    |\n",
    "| Members       | Burman, Jaiv Chaitanya      |\n",
    "|               | Lad, Khushbu Nileshkumar    |\n",
    "|               | Madhav, Akshata Ajay        |\n"
   ]
  },
  {
   "cell_type": "markdown",
   "metadata": {},
   "source": [
    "### Data Collection"
   ]
  },
  {
   "cell_type": "markdown",
   "metadata": {},
   "source": [
    "#### Collect a dataset of product reviews. "
   ]
  },
  {
   "cell_type": "markdown",
   "metadata": {},
   "source": [
    "##### Rectangular Dataset\n",
    "\n",
    "- Kaggle Reference : https://www.kaggle.com/datasets/konradb/inside-airbnb-usa/data\n",
    "- Utilised reviews for : Hawaii\n",
    "    1. reviews_detailed.csv\n",
    "    2. listings.csv"
   ]
  },
  {
   "cell_type": "markdown",
   "metadata": {},
   "source": [
    "##### Import Libraries"
   ]
  },
  {
   "cell_type": "code",
   "execution_count": 1,
   "metadata": {},
   "outputs": [
    {
     "name": "stderr",
     "output_type": "stream",
     "text": [
      "[nltk_data] Downloading package wordnet to\n",
      "[nltk_data]     C:\\Users\\Khushbu.Lad\\AppData\\Roaming\\nltk_data...\n",
      "[nltk_data]   Package wordnet is already up-to-date!\n"
     ]
    }
   ],
   "source": [
    "import numpy as np\n",
    "import pandas as pd \n",
    "from scipy import stats\n",
    "import matplotlib.pyplot as plt\n",
    "from nltk.stem import WordNetLemmatizer\n",
    "from nltk.corpus import stopwords\n",
    "from nltk.tokenize import word_tokenize, sent_tokenize\n",
    "from nltk.stem import PorterStemmer  # For stemming\n",
    "from nltk.stem import WordNetLemmatizer  # For lemmatization\n",
    "from deep_translator import GoogleTranslator # For translating review\n",
    "import string\n",
    "import nltk\n",
    "nltk.download('wordnet')\n",
    "from multiprocessing import Pool\n",
    "from langdetect import detect, DetectorFactory\n",
    "from langdetect.lang_detect_exception import LangDetectException\n",
    "from tqdm import tqdm\n",
    "from vaderSentiment.vaderSentiment import SentimentIntensityAnalyzer\n",
    "import os\n"
   ]
  },
  {
   "cell_type": "markdown",
   "metadata": {},
   "source": [
    "##### Load Dataset classes and methods"
   ]
  },
  {
   "cell_type": "code",
   "execution_count": 2,
   "metadata": {},
   "outputs": [],
   "source": [
    "class ReviewsDataset:\n",
    "    def __init__(self):\n",
    "        self.listing_file_path = './Dataset/FinalProject/listings.csv'\n",
    "        self.listing_data = None\n",
    "        self.reviews_file_path = './Dataset/FinalProject/reviews_detailed.csv'\n",
    "        self.reviews_data = None\n",
    "        self.merged_data=None\n",
    "        self.preprocessed_reviews_file_path = './Dataset/FinalProject/processed_reviews.csv'\n",
    "        self.is_preprocessed = False\n",
    "    \n",
    "    # Loads the data from a CSV file.\n",
    "    def load_data(self):\n",
    "        self.listing_data = pd.read_csv(self.listing_file_path)\n",
    "        print(f\"---> Load Listing List \\r\\n\")\n",
    "        print(f\"listings.csv : Data loaded successfully.\")\n",
    "        print(f\"Total Records : {self.listing_data.shape[0]} \\r\\n\")\n",
    "\n",
    "        print(f\"---> Load Reviews List \\r\\n\")\n",
    "        if(os.path.exists(self.preprocessed_reviews_file_path)):\n",
    "            self.reviews_data = pd.read_csv(self.preprocessed_reviews_file_path)\n",
    "            print(f\"reviews_detailed.csv : Data loaded successfully.\")\n",
    "            self.is_preprocessed=True\n",
    "        else:\n",
    "            self.reviews_data = pd.read_csv(self.reviews_file_path)\n",
    "            print(f\"processed_reviews.csv : Data loaded successfully. ( Preprocessed data )\")\n",
    "        print(f\"Total Records : {self.reviews_data.shape[0]} \\r\\n\")\n",
    "\n",
    "    # Print shape of data\n",
    "    def print_shape(self):\n",
    "        try:\n",
    "            print(f\"Total Records : Listing : {self.listing_data.shape[0]}\")\n",
    "        except:\n",
    "            print(f\"Total Records : Listing : Not initialized\")\n",
    "        try:\n",
    "            print(f\"Total Records : Review  : {self.reviews_data.shape[0]}\")\n",
    "        except:\n",
    "            print(f\"Total Records : Review : Not initialized\")\n",
    "        try:\n",
    "            print(f\"Total Records : Merged  : {self.merged_data.shape[0]}\")\n",
    "        except:\n",
    "            print(f\"Total Records : Merged : Not initialized\")\n",
    "\n",
    "    \n",
    "    def merge_data(self):\n",
    "        # Merge data using common field recepe Id\n",
    "        self.merged_data = pd.merge(self.listing_data, self.reviews_data, left_on='id', right_on='listing_id')\n",
    "        print(\"Data Merged Successfully\")\n",
    "        print(f\"Total Records : {self.merged_data.shape[0]} \\r\\n\")\n",
    "\n"
   ]
  },
  {
   "cell_type": "markdown",
   "metadata": {},
   "source": [
    "##### The Main function : initialize class object and load data"
   ]
  },
  {
   "cell_type": "code",
   "execution_count": 3,
   "metadata": {},
   "outputs": [
    {
     "name": "stdout",
     "output_type": "stream",
     "text": [
      "---> Load Listing List \n",
      "\n",
      "listings.csv : Data loaded successfully.\n",
      "Total Records : 30760 \n",
      "\n",
      "---> Load Reviews List \n",
      "\n",
      "reviews_detailed.csv : Data loaded successfully.\n",
      "Total Records : 1019922 \n",
      "\n"
     ]
    }
   ],
   "source": [
    "if __name__ == \"__main__\":\n",
    "    # Create an instance of the ReviewsDataset  class and load data\n",
    "    review_dataset = ReviewsDataset()\n",
    "    review_dataset.load_data()\n"
   ]
  },
  {
   "cell_type": "code",
   "execution_count": 4,
   "metadata": {},
   "outputs": [
    {
     "data": {
      "text/html": [
       "<div>\n",
       "<style scoped>\n",
       "    .dataframe tbody tr th:only-of-type {\n",
       "        vertical-align: middle;\n",
       "    }\n",
       "\n",
       "    .dataframe tbody tr th {\n",
       "        vertical-align: top;\n",
       "    }\n",
       "\n",
       "    .dataframe thead th {\n",
       "        text-align: right;\n",
       "    }\n",
       "</style>\n",
       "<table border=\"1\" class=\"dataframe\">\n",
       "  <thead>\n",
       "    <tr style=\"text-align: right;\">\n",
       "      <th></th>\n",
       "      <th>listing_id</th>\n",
       "      <th>id</th>\n",
       "      <th>date</th>\n",
       "      <th>reviewer_id</th>\n",
       "      <th>reviewer_name</th>\n",
       "      <th>comments</th>\n",
       "      <th>CleanedComment</th>\n",
       "      <th>LemmatizedWords</th>\n",
       "    </tr>\n",
       "  </thead>\n",
       "  <tbody>\n",
       "    <tr>\n",
       "      <th>0</th>\n",
       "      <td>3002</td>\n",
       "      <td>63686</td>\n",
       "      <td>2010-07-11</td>\n",
       "      <td>155310</td>\n",
       "      <td>Debbie</td>\n",
       "      <td>Lynne is very kind and accommodating, the loca...</td>\n",
       "      <td>Lynne kind accommodating location ca n't beat ...</td>\n",
       "      <td>['Lynne', 'kind', 'accommodating', 'location',...</td>\n",
       "    </tr>\n",
       "    <tr>\n",
       "      <th>1</th>\n",
       "      <td>3002</td>\n",
       "      <td>71254</td>\n",
       "      <td>2010-07-31</td>\n",
       "      <td>75939</td>\n",
       "      <td>Bonnie</td>\n",
       "      <td>I came back to the island on my own for my 25t...</td>\n",
       "      <td>came back island 25th HS reunion wanted come b...</td>\n",
       "      <td>['came', 'back', 'island', '25th', 'HS', 'reun...</td>\n",
       "    </tr>\n",
       "    <tr>\n",
       "      <th>2</th>\n",
       "      <td>3002</td>\n",
       "      <td>132520</td>\n",
       "      <td>2010-11-02</td>\n",
       "      <td>189930</td>\n",
       "      <td>Alexandra</td>\n",
       "      <td>I had a wonderfull time in Hawaii. Lynne is a ...</td>\n",
       "      <td>wonderfull time Hawaii Lynne super-super host ...</td>\n",
       "      <td>['wonderfull', 'time', 'Hawaii', 'Lynne', 'sup...</td>\n",
       "    </tr>\n",
       "  </tbody>\n",
       "</table>\n",
       "</div>"
      ],
      "text/plain": [
       "   listing_id      id        date  reviewer_id reviewer_name  \\\n",
       "0        3002   63686  2010-07-11       155310        Debbie   \n",
       "1        3002   71254  2010-07-31        75939        Bonnie   \n",
       "2        3002  132520  2010-11-02       189930     Alexandra   \n",
       "\n",
       "                                            comments  \\\n",
       "0  Lynne is very kind and accommodating, the loca...   \n",
       "1  I came back to the island on my own for my 25t...   \n",
       "2  I had a wonderfull time in Hawaii. Lynne is a ...   \n",
       "\n",
       "                                      CleanedComment  \\\n",
       "0  Lynne kind accommodating location ca n't beat ...   \n",
       "1  came back island 25th HS reunion wanted come b...   \n",
       "2  wonderfull time Hawaii Lynne super-super host ...   \n",
       "\n",
       "                                     LemmatizedWords  \n",
       "0  ['Lynne', 'kind', 'accommodating', 'location',...  \n",
       "1  ['came', 'back', 'island', '25th', 'HS', 'reun...  \n",
       "2  ['wonderfull', 'time', 'Hawaii', 'Lynne', 'sup...  "
      ]
     },
     "execution_count": 4,
     "metadata": {},
     "output_type": "execute_result"
    }
   ],
   "source": [
    "review_dataset.reviews_data.head(3)"
   ]
  },
  {
   "cell_type": "code",
   "execution_count": 5,
   "metadata": {},
   "outputs": [
    {
     "data": {
      "text/html": [
       "<div>\n",
       "<style scoped>\n",
       "    .dataframe tbody tr th:only-of-type {\n",
       "        vertical-align: middle;\n",
       "    }\n",
       "\n",
       "    .dataframe tbody tr th {\n",
       "        vertical-align: top;\n",
       "    }\n",
       "\n",
       "    .dataframe thead th {\n",
       "        text-align: right;\n",
       "    }\n",
       "</style>\n",
       "<table border=\"1\" class=\"dataframe\">\n",
       "  <thead>\n",
       "    <tr style=\"text-align: right;\">\n",
       "      <th></th>\n",
       "      <th>id</th>\n",
       "      <th>name</th>\n",
       "      <th>host_id</th>\n",
       "      <th>host_name</th>\n",
       "      <th>neighbourhood_group</th>\n",
       "      <th>neighbourhood</th>\n",
       "      <th>latitude</th>\n",
       "      <th>longitude</th>\n",
       "      <th>room_type</th>\n",
       "      <th>price</th>\n",
       "      <th>minimum_nights</th>\n",
       "      <th>number_of_reviews</th>\n",
       "      <th>last_review</th>\n",
       "      <th>reviews_per_month</th>\n",
       "      <th>calculated_host_listings_count</th>\n",
       "      <th>availability_365</th>\n",
       "      <th>number_of_reviews_ltm</th>\n",
       "      <th>license</th>\n",
       "    </tr>\n",
       "  </thead>\n",
       "  <tbody>\n",
       "    <tr>\n",
       "      <th>0</th>\n",
       "      <td>3002</td>\n",
       "      <td>OCEAN VIEW 1BLK2BEACH,LANAI A/C,FULL KITCH,CEN...</td>\n",
       "      <td>3364</td>\n",
       "      <td>Lynne</td>\n",
       "      <td>Honolulu</td>\n",
       "      <td>Primary Urban Center</td>\n",
       "      <td>21.27563</td>\n",
       "      <td>-157.82297</td>\n",
       "      <td>Entire home/apt</td>\n",
       "      <td>85</td>\n",
       "      <td>5</td>\n",
       "      <td>242</td>\n",
       "      <td>2023-01-23</td>\n",
       "      <td>1.57</td>\n",
       "      <td>1</td>\n",
       "      <td>2</td>\n",
       "      <td>2</td>\n",
       "      <td>92- 0251181</td>\n",
       "    </tr>\n",
       "    <tr>\n",
       "      <th>1</th>\n",
       "      <td>5269</td>\n",
       "      <td>Upcountry Hospitality in the 'Auwai Suite</td>\n",
       "      <td>7620</td>\n",
       "      <td>Lea &amp; Pat</td>\n",
       "      <td>Hawaii</td>\n",
       "      <td>South Kohala</td>\n",
       "      <td>20.02740</td>\n",
       "      <td>-155.70200</td>\n",
       "      <td>Entire home/apt</td>\n",
       "      <td>185</td>\n",
       "      <td>5</td>\n",
       "      <td>26</td>\n",
       "      <td>2023-02-25</td>\n",
       "      <td>0.18</td>\n",
       "      <td>4</td>\n",
       "      <td>298</td>\n",
       "      <td>10</td>\n",
       "      <td>119-269-5808-01R</td>\n",
       "    </tr>\n",
       "    <tr>\n",
       "      <th>2</th>\n",
       "      <td>5387</td>\n",
       "      <td>Hale Koa Studio &amp; 1 Bedroom Units!!</td>\n",
       "      <td>7878</td>\n",
       "      <td>Edward</td>\n",
       "      <td>Hawaii</td>\n",
       "      <td>South Kona</td>\n",
       "      <td>19.43081</td>\n",
       "      <td>-155.88069</td>\n",
       "      <td>Entire home/apt</td>\n",
       "      <td>105</td>\n",
       "      <td>5</td>\n",
       "      <td>206</td>\n",
       "      <td>2023-02-01</td>\n",
       "      <td>1.29</td>\n",
       "      <td>3</td>\n",
       "      <td>239</td>\n",
       "      <td>18</td>\n",
       "      <td>NaN</td>\n",
       "    </tr>\n",
       "  </tbody>\n",
       "</table>\n",
       "</div>"
      ],
      "text/plain": [
       "     id                                               name  host_id  \\\n",
       "0  3002  OCEAN VIEW 1BLK2BEACH,LANAI A/C,FULL KITCH,CEN...     3364   \n",
       "1  5269          Upcountry Hospitality in the 'Auwai Suite     7620   \n",
       "2  5387                Hale Koa Studio & 1 Bedroom Units!!     7878   \n",
       "\n",
       "   host_name neighbourhood_group         neighbourhood  latitude  longitude  \\\n",
       "0      Lynne            Honolulu  Primary Urban Center  21.27563 -157.82297   \n",
       "1  Lea & Pat              Hawaii          South Kohala  20.02740 -155.70200   \n",
       "2     Edward              Hawaii            South Kona  19.43081 -155.88069   \n",
       "\n",
       "         room_type  price  minimum_nights  number_of_reviews last_review  \\\n",
       "0  Entire home/apt     85               5                242  2023-01-23   \n",
       "1  Entire home/apt    185               5                 26  2023-02-25   \n",
       "2  Entire home/apt    105               5                206  2023-02-01   \n",
       "\n",
       "   reviews_per_month  calculated_host_listings_count  availability_365  \\\n",
       "0               1.57                               1                 2   \n",
       "1               0.18                               4               298   \n",
       "2               1.29                               3               239   \n",
       "\n",
       "   number_of_reviews_ltm           license  \n",
       "0                      2       92- 0251181  \n",
       "1                     10  119-269-5808-01R  \n",
       "2                     18               NaN  "
      ]
     },
     "execution_count": 5,
     "metadata": {},
     "output_type": "execute_result"
    }
   ],
   "source": [
    "review_dataset.listing_data.head(3)"
   ]
  },
  {
   "cell_type": "markdown",
   "metadata": {},
   "source": [
    "##### Null check : Eliminate missing values : listing data"
   ]
  },
  {
   "cell_type": "code",
   "execution_count": 6,
   "metadata": {},
   "outputs": [
    {
     "data": {
      "text/plain": [
       "id                                   0\n",
       "name                                 1\n",
       "host_id                              0\n",
       "host_name                            2\n",
       "neighbourhood_group                  0\n",
       "neighbourhood                        0\n",
       "latitude                             0\n",
       "longitude                            0\n",
       "room_type                            0\n",
       "price                                0\n",
       "minimum_nights                       0\n",
       "number_of_reviews                    0\n",
       "last_review                       6793\n",
       "reviews_per_month                 6793\n",
       "calculated_host_listings_count       0\n",
       "availability_365                     0\n",
       "number_of_reviews_ltm                0\n",
       "license                           5334\n",
       "dtype: int64"
      ]
     },
     "execution_count": 6,
     "metadata": {},
     "output_type": "execute_result"
    }
   ],
   "source": [
    "review_dataset.listing_data.isnull().sum()"
   ]
  },
  {
   "cell_type": "code",
   "execution_count": 7,
   "metadata": {},
   "outputs": [],
   "source": [
    "review_dataset.listing_data.dropna(inplace=True)"
   ]
  },
  {
   "cell_type": "markdown",
   "metadata": {},
   "source": [
    "##### Null check : Eliminate missing values : reviews detail"
   ]
  },
  {
   "cell_type": "code",
   "execution_count": 8,
   "metadata": {},
   "outputs": [
    {
     "data": {
      "text/plain": [
       "listing_id         0\n",
       "id                 0\n",
       "date               0\n",
       "reviewer_id        0\n",
       "reviewer_name      0\n",
       "comments           0\n",
       "CleanedComment     0\n",
       "LemmatizedWords    0\n",
       "dtype: int64"
      ]
     },
     "execution_count": 8,
     "metadata": {},
     "output_type": "execute_result"
    }
   ],
   "source": [
    "review_dataset.reviews_data.isnull().sum()"
   ]
  },
  {
   "cell_type": "code",
   "execution_count": 9,
   "metadata": {},
   "outputs": [
    {
     "data": {
      "text/html": [
       "<div>\n",
       "<style scoped>\n",
       "    .dataframe tbody tr th:only-of-type {\n",
       "        vertical-align: middle;\n",
       "    }\n",
       "\n",
       "    .dataframe tbody tr th {\n",
       "        vertical-align: top;\n",
       "    }\n",
       "\n",
       "    .dataframe thead th {\n",
       "        text-align: right;\n",
       "    }\n",
       "</style>\n",
       "<table border=\"1\" class=\"dataframe\">\n",
       "  <thead>\n",
       "    <tr style=\"text-align: right;\">\n",
       "      <th></th>\n",
       "      <th>listing_id</th>\n",
       "      <th>id</th>\n",
       "      <th>date</th>\n",
       "      <th>reviewer_id</th>\n",
       "      <th>reviewer_name</th>\n",
       "      <th>comments</th>\n",
       "      <th>CleanedComment</th>\n",
       "      <th>LemmatizedWords</th>\n",
       "    </tr>\n",
       "  </thead>\n",
       "  <tbody>\n",
       "  </tbody>\n",
       "</table>\n",
       "</div>"
      ],
      "text/plain": [
       "Empty DataFrame\n",
       "Columns: [listing_id, id, date, reviewer_id, reviewer_name, comments, CleanedComment, LemmatizedWords]\n",
       "Index: []"
      ]
     },
     "execution_count": 9,
     "metadata": {},
     "output_type": "execute_result"
    }
   ],
   "source": [
    "review_dataset.reviews_data[review_dataset.reviews_data['CleanedComment'].isnull()]"
   ]
  },
  {
   "cell_type": "code",
   "execution_count": 10,
   "metadata": {},
   "outputs": [],
   "source": [
    "review_dataset.reviews_data.dropna(inplace=True)"
   ]
  },
  {
   "cell_type": "markdown",
   "metadata": {},
   "source": [
    "##### Review shape after null data elimination"
   ]
  },
  {
   "cell_type": "code",
   "execution_count": 11,
   "metadata": {},
   "outputs": [
    {
     "name": "stdout",
     "output_type": "stream",
     "text": [
      "Total Records : Listing : 20288\n",
      "Total Records : Review  : 1019922\n",
      "Total Records : Merged : Not initialized\n"
     ]
    }
   ],
   "source": [
    "review_dataset.print_shape()"
   ]
  },
  {
   "cell_type": "markdown",
   "metadata": {},
   "source": [
    "### Annotate the dataset with labels of positive, negative or neutral sentiment, based on collected data."
   ]
  },
  {
   "cell_type": "markdown",
   "metadata": {},
   "source": [
    "**Tool** : VADER (Valence Aware Dictionary and sEntiment Reasoner)"
   ]
  },
  {
   "cell_type": "code",
   "execution_count": null,
   "metadata": {},
   "outputs": [
    {
     "name": "stderr",
     "output_type": "stream",
     "text": [
      "  4%|▍         | 39612/1019922 [00:32<11:21, 1438.75it/s]"
     ]
    }
   ],
   "source": [
    "# Initialize the analyzer\n",
    "analyzer = SentimentIntensityAnalyzer()\n",
    "\n",
    "# Function to get sentiment scores\n",
    "def get_sentiment_scores(text):\n",
    "    sentiment = analyzer.polarity_scores(text)\n",
    "    result =\"\"\n",
    "    if(sentiment['compound']<0.5):\n",
    "        result=\"Bad\"\n",
    "    elif(sentiment['compound']>0.5):\n",
    "        result=\"Good\"\n",
    "    elif(sentiment['compound']==0.5):\n",
    "        result=\"Neutral\"\n",
    "    return pd.Series([sentiment['neg'], sentiment['neu'], sentiment['pos'], sentiment['compound'],result ])\n",
    "\n",
    "tqdm.pandas()\n",
    "review_dataset.reviews_data[['negative', 'neutral', 'positive', 'compound','sentiment']] = review_dataset.reviews_data['comments'].progress_apply(get_sentiment_scores)\n",
    "review_dataset.reviews_data.to_csv(review_dataset.preprocessed_reviews_file_path, index=False)\n",
    "\n",
    "\n",
    "## If previously saved data found, do not reprocess\n",
    "# if(review_dataset.is_preprocessed == False):\n",
    "#     tqdm.pandas()\n",
    "#     review_dataset.reviews_data[['negative', 'neutral', 'positive', 'compound','sentiment']] = review_dataset.reviews_data['comments'].progress_apply(get_sentiment_scores)\n",
    "# else:\n",
    "#     # Show message if data is already loaded\n",
    "#     print(\"Note : Loaded already saved preprocessed data. Go to next step.\")"
   ]
  },
  {
   "cell_type": "markdown",
   "metadata": {},
   "source": [
    "##### Plot the results"
   ]
  },
  {
   "cell_type": "code",
   "execution_count": null,
   "metadata": {},
   "outputs": [
    {
     "ename": "KeyError",
     "evalue": "'sentiment'",
     "output_type": "error",
     "traceback": [
      "\u001b[1;31m---------------------------------------------------------------------------\u001b[0m",
      "\u001b[1;31mKeyError\u001b[0m                                  Traceback (most recent call last)",
      "File \u001b[1;32md:\\Conestoga\\PROG8245-MLP\\PROG8245\\venvPROG8245\\Lib\\site-packages\\pandas\\core\\indexes\\base.py:3805\u001b[0m, in \u001b[0;36mIndex.get_loc\u001b[1;34m(self, key)\u001b[0m\n\u001b[0;32m   3804\u001b[0m \u001b[38;5;28;01mtry\u001b[39;00m:\n\u001b[1;32m-> 3805\u001b[0m     \u001b[38;5;28;01mreturn\u001b[39;00m \u001b[38;5;28;43mself\u001b[39;49m\u001b[38;5;241;43m.\u001b[39;49m\u001b[43m_engine\u001b[49m\u001b[38;5;241;43m.\u001b[39;49m\u001b[43mget_loc\u001b[49m\u001b[43m(\u001b[49m\u001b[43mcasted_key\u001b[49m\u001b[43m)\u001b[49m\n\u001b[0;32m   3806\u001b[0m \u001b[38;5;28;01mexcept\u001b[39;00m \u001b[38;5;167;01mKeyError\u001b[39;00m \u001b[38;5;28;01mas\u001b[39;00m err:\n",
      "File \u001b[1;32mindex.pyx:167\u001b[0m, in \u001b[0;36mpandas._libs.index.IndexEngine.get_loc\u001b[1;34m()\u001b[0m\n",
      "File \u001b[1;32mindex.pyx:196\u001b[0m, in \u001b[0;36mpandas._libs.index.IndexEngine.get_loc\u001b[1;34m()\u001b[0m\n",
      "File \u001b[1;32mpandas\\\\_libs\\\\hashtable_class_helper.pxi:7081\u001b[0m, in \u001b[0;36mpandas._libs.hashtable.PyObjectHashTable.get_item\u001b[1;34m()\u001b[0m\n",
      "File \u001b[1;32mpandas\\\\_libs\\\\hashtable_class_helper.pxi:7089\u001b[0m, in \u001b[0;36mpandas._libs.hashtable.PyObjectHashTable.get_item\u001b[1;34m()\u001b[0m\n",
      "\u001b[1;31mKeyError\u001b[0m: 'sentiment'",
      "\nThe above exception was the direct cause of the following exception:\n",
      "\u001b[1;31mKeyError\u001b[0m                                  Traceback (most recent call last)",
      "Cell \u001b[1;32mIn[57], line 1\u001b[0m\n\u001b[1;32m----> 1\u001b[0m sentiment_counts \u001b[38;5;241m=\u001b[39m \u001b[43mreview_dataset\u001b[49m\u001b[38;5;241;43m.\u001b[39;49m\u001b[43mreviews_data\u001b[49m\u001b[43m[\u001b[49m\u001b[38;5;124;43m'\u001b[39;49m\u001b[38;5;124;43msentiment\u001b[39;49m\u001b[38;5;124;43m'\u001b[39;49m\u001b[43m]\u001b[49m\u001b[38;5;241m.\u001b[39mvalue_counts()\n\u001b[0;32m      2\u001b[0m \u001b[38;5;28mprint\u001b[39m(sentiment_counts)\n\u001b[0;32m      3\u001b[0m \u001b[38;5;66;03m# Plotting sentiment distribution without border\u001b[39;00m\n\u001b[0;32m      4\u001b[0m \u001b[38;5;66;03m# plt.figure(figsize=(4, 3))\u001b[39;00m\n\u001b[0;32m      5\u001b[0m \u001b[38;5;66;03m# sentiment_counts.plot(\u001b[39;00m\n\u001b[1;32m   (...)\u001b[0m\n\u001b[0;32m     14\u001b[0m \u001b[38;5;66;03m# plt.xticks(rotation=0)\u001b[39;00m\n\u001b[0;32m     15\u001b[0m \u001b[38;5;66;03m# plt.tight_layout()\u001b[39;00m\n",
      "File \u001b[1;32md:\\Conestoga\\PROG8245-MLP\\PROG8245\\venvPROG8245\\Lib\\site-packages\\pandas\\core\\frame.py:4102\u001b[0m, in \u001b[0;36mDataFrame.__getitem__\u001b[1;34m(self, key)\u001b[0m\n\u001b[0;32m   4100\u001b[0m \u001b[38;5;28;01mif\u001b[39;00m \u001b[38;5;28mself\u001b[39m\u001b[38;5;241m.\u001b[39mcolumns\u001b[38;5;241m.\u001b[39mnlevels \u001b[38;5;241m>\u001b[39m \u001b[38;5;241m1\u001b[39m:\n\u001b[0;32m   4101\u001b[0m     \u001b[38;5;28;01mreturn\u001b[39;00m \u001b[38;5;28mself\u001b[39m\u001b[38;5;241m.\u001b[39m_getitem_multilevel(key)\n\u001b[1;32m-> 4102\u001b[0m indexer \u001b[38;5;241m=\u001b[39m \u001b[38;5;28;43mself\u001b[39;49m\u001b[38;5;241;43m.\u001b[39;49m\u001b[43mcolumns\u001b[49m\u001b[38;5;241;43m.\u001b[39;49m\u001b[43mget_loc\u001b[49m\u001b[43m(\u001b[49m\u001b[43mkey\u001b[49m\u001b[43m)\u001b[49m\n\u001b[0;32m   4103\u001b[0m \u001b[38;5;28;01mif\u001b[39;00m is_integer(indexer):\n\u001b[0;32m   4104\u001b[0m     indexer \u001b[38;5;241m=\u001b[39m [indexer]\n",
      "File \u001b[1;32md:\\Conestoga\\PROG8245-MLP\\PROG8245\\venvPROG8245\\Lib\\site-packages\\pandas\\core\\indexes\\base.py:3812\u001b[0m, in \u001b[0;36mIndex.get_loc\u001b[1;34m(self, key)\u001b[0m\n\u001b[0;32m   3807\u001b[0m     \u001b[38;5;28;01mif\u001b[39;00m \u001b[38;5;28misinstance\u001b[39m(casted_key, \u001b[38;5;28mslice\u001b[39m) \u001b[38;5;129;01mor\u001b[39;00m (\n\u001b[0;32m   3808\u001b[0m         \u001b[38;5;28misinstance\u001b[39m(casted_key, abc\u001b[38;5;241m.\u001b[39mIterable)\n\u001b[0;32m   3809\u001b[0m         \u001b[38;5;129;01mand\u001b[39;00m \u001b[38;5;28many\u001b[39m(\u001b[38;5;28misinstance\u001b[39m(x, \u001b[38;5;28mslice\u001b[39m) \u001b[38;5;28;01mfor\u001b[39;00m x \u001b[38;5;129;01min\u001b[39;00m casted_key)\n\u001b[0;32m   3810\u001b[0m     ):\n\u001b[0;32m   3811\u001b[0m         \u001b[38;5;28;01mraise\u001b[39;00m InvalidIndexError(key)\n\u001b[1;32m-> 3812\u001b[0m     \u001b[38;5;28;01mraise\u001b[39;00m \u001b[38;5;167;01mKeyError\u001b[39;00m(key) \u001b[38;5;28;01mfrom\u001b[39;00m \u001b[38;5;21;01merr\u001b[39;00m\n\u001b[0;32m   3813\u001b[0m \u001b[38;5;28;01mexcept\u001b[39;00m \u001b[38;5;167;01mTypeError\u001b[39;00m:\n\u001b[0;32m   3814\u001b[0m     \u001b[38;5;66;03m# If we have a listlike key, _check_indexing_error will raise\u001b[39;00m\n\u001b[0;32m   3815\u001b[0m     \u001b[38;5;66;03m#  InvalidIndexError. Otherwise we fall through and re-raise\u001b[39;00m\n\u001b[0;32m   3816\u001b[0m     \u001b[38;5;66;03m#  the TypeError.\u001b[39;00m\n\u001b[0;32m   3817\u001b[0m     \u001b[38;5;28mself\u001b[39m\u001b[38;5;241m.\u001b[39m_check_indexing_error(key)\n",
      "\u001b[1;31mKeyError\u001b[0m: 'sentiment'"
     ]
    }
   ],
   "source": [
    "sentiment_counts = review_dataset.reviews_data['sentiment'].value_counts()\n",
    "print(sentiment_counts)\n",
    "# Plotting sentiment distribution without border\n",
    "# plt.figure(figsize=(4, 3))\n",
    "# sentiment_counts.plot(\n",
    "#     kind='bar', \n",
    "#     color=['green', 'gray', 'red'], \n",
    "#     alpha=0.7, \n",
    "#     edgecolor='none'  # Removes border from bars\n",
    "# )\n",
    "# plt.title('Sentiment Distribution of Reviews')\n",
    "# plt.xlabel('Sentiment')\n",
    "# plt.ylabel('Count')\n",
    "# plt.xticks(rotation=0)\n",
    "# plt.tight_layout()"
   ]
  },
  {
   "cell_type": "markdown",
   "metadata": {},
   "source": [
    "### Preprocessing"
   ]
  },
  {
   "cell_type": "markdown",
   "metadata": {},
   "source": [
    "1. Perform necessary text preprocessing steps such as tokenization, stop-word removal, stemming/lemmatization, and lowercasing. \n",
    "2. Remove any irrelevant columns, handle missing values, and clean text data by removing special characters, stopwords, and performing stemming/lemmatization\n",
    "3. Handle specific challenges of used text like hashtags, emojis, and slang."
   ]
  },
  {
   "cell_type": "code",
   "execution_count": null,
   "metadata": {},
   "outputs": [
    {
     "name": "stdout",
     "output_type": "stream",
     "text": [
      "Note : Loaded already saved preprocessed data. Go to next step.\n"
     ]
    }
   ],
   "source": [
    "\n",
    "lemmatizer = WordNetLemmatizer()\n",
    "stop_words = set(stopwords.words('english'))\n",
    "translator = GoogleTranslator(source='auto', target='en')\n",
    "\n",
    "def PreprocessReviewComment(comment):\n",
    "    try:\n",
    "        # Ensure the input is a string\n",
    "        if not isinstance(comment, str):\n",
    "            return \"\",[]\n",
    "\n",
    "        # Translate to english if other language is detected\n",
    "        # try:\n",
    "        #     lang = detect(comment)\n",
    "        # except LangDetectException:\n",
    "        #     lang = \"unknown\"\n",
    "        translated = comment\n",
    "        # if lang != \"en\": \n",
    "        #     translated = translator.translate(comment)\n",
    "\n",
    "        # Tokenization\n",
    "        word_tokens = word_tokenize(translated) \n",
    "\n",
    "        # Remove Stop words and case folding\n",
    "        stop_words_removed = [word for word in word_tokens if word.lower() not in stop_words]\n",
    "\n",
    "        # Remove punctuation\n",
    "        punctuation_removed = [word for word in stop_words_removed if word not in string.punctuation]\n",
    "\n",
    "        # Lemmatization\n",
    "        lemmatize_words = [lemmatizer.lemmatize(word) for word in punctuation_removed]\n",
    "\n",
    "        cleaned_comment = ' '.join(lemmatize_words)\n",
    "        return cleaned_comment,lemmatize_words\n",
    "    except:\n",
    "        return \"FAILED\",[\"FAILED\"]\n",
    "    \n",
    "if(review_dataset.is_preprocessed == False):\n",
    "    # Initialise plugin for progress\n",
    "    tqdm.pandas()\n",
    "    # Preprocess data\n",
    "    review_dataset.reviews_data[['CleanedComment', 'LemmatizedWords']] = review_dataset.reviews_data['comments'].progress_apply(\n",
    "        lambda x: pd.Series(PreprocessReviewComment(x))\n",
    "    )\n",
    "else:\n",
    "    # Show message if data is already loaded\n",
    "    print(\"Note : Loaded already saved preprocessed data. Go to next step.\")"
   ]
  },
  {
   "cell_type": "markdown",
   "metadata": {},
   "source": [
    "##### Save Preprocessed data in file\n",
    "- Preprocessing is time taking\n",
    "- Save and reuse preprocessed data if available\n",
    "- Translation is taking time so commented (will uncomment and run if time permits)"
   ]
  },
  {
   "cell_type": "code",
   "execution_count": null,
   "metadata": {},
   "outputs": [],
   "source": [
    "# Save intermediate data\n",
    "if(review_dataset.is_preprocessed == False):\n",
    "    review_dataset.reviews_data.to_csv(review_dataset.preprocessed_reviews_file_path, index=False)\n"
   ]
  },
  {
   "cell_type": "markdown",
   "metadata": {},
   "source": [
    "##### Review processed data"
   ]
  },
  {
   "cell_type": "code",
   "execution_count": null,
   "metadata": {},
   "outputs": [
    {
     "data": {
      "text/html": [
       "<div>\n",
       "<style scoped>\n",
       "    .dataframe tbody tr th:only-of-type {\n",
       "        vertical-align: middle;\n",
       "    }\n",
       "\n",
       "    .dataframe tbody tr th {\n",
       "        vertical-align: top;\n",
       "    }\n",
       "\n",
       "    .dataframe thead th {\n",
       "        text-align: right;\n",
       "    }\n",
       "</style>\n",
       "<table border=\"1\" class=\"dataframe\">\n",
       "  <thead>\n",
       "    <tr style=\"text-align: right;\">\n",
       "      <th></th>\n",
       "      <th>listing_id</th>\n",
       "      <th>id</th>\n",
       "      <th>date</th>\n",
       "      <th>reviewer_id</th>\n",
       "      <th>reviewer_name</th>\n",
       "      <th>comments</th>\n",
       "      <th>CleanedComment</th>\n",
       "      <th>LemmatizedWords</th>\n",
       "    </tr>\n",
       "  </thead>\n",
       "  <tbody>\n",
       "    <tr>\n",
       "      <th>0</th>\n",
       "      <td>3002</td>\n",
       "      <td>63686</td>\n",
       "      <td>2010-07-11</td>\n",
       "      <td>155310</td>\n",
       "      <td>Debbie</td>\n",
       "      <td>Lynne is very kind and accommodating, the loca...</td>\n",
       "      <td>Lynne kind accommodating location ca n't beat ...</td>\n",
       "      <td>['Lynne', 'kind', 'accommodating', 'location',...</td>\n",
       "    </tr>\n",
       "    <tr>\n",
       "      <th>1</th>\n",
       "      <td>3002</td>\n",
       "      <td>71254</td>\n",
       "      <td>2010-07-31</td>\n",
       "      <td>75939</td>\n",
       "      <td>Bonnie</td>\n",
       "      <td>I came back to the island on my own for my 25t...</td>\n",
       "      <td>came back island 25th HS reunion wanted come b...</td>\n",
       "      <td>['came', 'back', 'island', '25th', 'HS', 'reun...</td>\n",
       "    </tr>\n",
       "    <tr>\n",
       "      <th>2</th>\n",
       "      <td>3002</td>\n",
       "      <td>132520</td>\n",
       "      <td>2010-11-02</td>\n",
       "      <td>189930</td>\n",
       "      <td>Alexandra</td>\n",
       "      <td>I had a wonderfull time in Hawaii. Lynne is a ...</td>\n",
       "      <td>wonderfull time Hawaii Lynne super-super host ...</td>\n",
       "      <td>['wonderfull', 'time', 'Hawaii', 'Lynne', 'sup...</td>\n",
       "    </tr>\n",
       "    <tr>\n",
       "      <th>3</th>\n",
       "      <td>3002</td>\n",
       "      <td>158315</td>\n",
       "      <td>2010-12-25</td>\n",
       "      <td>291487</td>\n",
       "      <td>Shirley</td>\n",
       "      <td>Lynn was a wonderful hostess and is a lovely, ...</td>\n",
       "      <td>Lynn wonderful hostess lovely friendly kind he...</td>\n",
       "      <td>['Lynn', 'wonderful', 'hostess', 'lovely', 'fr...</td>\n",
       "    </tr>\n",
       "    <tr>\n",
       "      <th>4</th>\n",
       "      <td>3002</td>\n",
       "      <td>168133</td>\n",
       "      <td>2011-01-08</td>\n",
       "      <td>331679</td>\n",
       "      <td>Elizabeth</td>\n",
       "      <td>Just a short walk to Waikiki beach, restaurant...</td>\n",
       "      <td>short walk Waikiki beach restaurant shopping P...</td>\n",
       "      <td>['short', 'walk', 'Waikiki', 'beach', 'restaur...</td>\n",
       "    </tr>\n",
       "  </tbody>\n",
       "</table>\n",
       "</div>"
      ],
      "text/plain": [
       "   listing_id      id        date  reviewer_id reviewer_name  \\\n",
       "0        3002   63686  2010-07-11       155310        Debbie   \n",
       "1        3002   71254  2010-07-31        75939        Bonnie   \n",
       "2        3002  132520  2010-11-02       189930     Alexandra   \n",
       "3        3002  158315  2010-12-25       291487       Shirley   \n",
       "4        3002  168133  2011-01-08       331679     Elizabeth   \n",
       "\n",
       "                                            comments  \\\n",
       "0  Lynne is very kind and accommodating, the loca...   \n",
       "1  I came back to the island on my own for my 25t...   \n",
       "2  I had a wonderfull time in Hawaii. Lynne is a ...   \n",
       "3  Lynn was a wonderful hostess and is a lovely, ...   \n",
       "4  Just a short walk to Waikiki beach, restaurant...   \n",
       "\n",
       "                                      CleanedComment  \\\n",
       "0  Lynne kind accommodating location ca n't beat ...   \n",
       "1  came back island 25th HS reunion wanted come b...   \n",
       "2  wonderfull time Hawaii Lynne super-super host ...   \n",
       "3  Lynn wonderful hostess lovely friendly kind he...   \n",
       "4  short walk Waikiki beach restaurant shopping P...   \n",
       "\n",
       "                                     LemmatizedWords  \n",
       "0  ['Lynne', 'kind', 'accommodating', 'location',...  \n",
       "1  ['came', 'back', 'island', '25th', 'HS', 'reun...  \n",
       "2  ['wonderfull', 'time', 'Hawaii', 'Lynne', 'sup...  \n",
       "3  ['Lynn', 'wonderful', 'hostess', 'lovely', 'fr...  \n",
       "4  ['short', 'walk', 'Waikiki', 'beach', 'restaur...  "
      ]
     },
     "execution_count": 35,
     "metadata": {},
     "output_type": "execute_result"
    }
   ],
   "source": [
    "review_dataset.reviews_data.head(5)"
   ]
  },
  {
   "cell_type": "markdown",
   "metadata": {},
   "source": [
    "### Feature Extraction and Model Comparison"
   ]
  },
  {
   "cell_type": "markdown",
   "metadata": {},
   "source": [
    "Explore different feature representation methods such as bag-of-words, TF-IDF, word embeddings (e.g., Word2Vec or GloVe), or contextual embeddings (e.g., BERT or GPT). Experiment with 3 different feature extraction techniques to capture meaningful representations of social media text where the 3 techniques should be of different word embedding categories."
   ]
  },
  {
   "cell_type": "markdown",
   "metadata": {},
   "source": [
    "#### TF-IDF"
   ]
  },
  {
   "cell_type": "markdown",
   "metadata": {},
   "source": [
    "#### Model Building\n",
    "- Choose a suitable machine learning algorithm (e.g., Naive Bayes, SVM, or neural networks) or deep learning model\n",
    "- Split the dataset into training and testing sets.\n",
    "- Train the selected model using the training data, evaluate and record its performance on the training and testing data."
   ]
  },
  {
   "cell_type": "markdown",
   "metadata": {},
   "source": [
    "#### Interpretation of results\n",
    "- Visualize your results\n",
    "- Compare different feature representation\n",
    "- Reach a conclusion on which is the best Embedding technique to use for your model"
   ]
  },
  {
   "cell_type": "markdown",
   "metadata": {},
   "source": [
    "#### Reference\n",
    "https://www.kaggle.com/datasets/konradb/inside-airbnb-usa/data"
   ]
  }
 ],
 "metadata": {
  "kernelspec": {
   "display_name": "venvPROG8245",
   "language": "python",
   "name": "python3"
  },
  "language_info": {
   "codemirror_mode": {
    "name": "ipython",
    "version": 3
   },
   "file_extension": ".py",
   "mimetype": "text/x-python",
   "name": "python",
   "nbconvert_exporter": "python",
   "pygments_lexer": "ipython3",
   "version": "3.12.6"
  }
 },
 "nbformat": 4,
 "nbformat_minor": 2
}
