{
 "cells": [
  {
   "cell_type": "markdown",
   "metadata": {},
   "source": [
    "## PROG8245 Assignment 1: (Total Marks 100)\n",
    "## Start on 16th of September- Due on 27th of September"
   ]
  },
  {
   "cell_type": "markdown",
   "metadata": {},
   "source": [
    "- TODO: write your name and ID below\n",
    "- Name: **Khushbu Nileshkumar Lad**\n",
    "- ID: **9027375**\n",
    "- Kindly note that this assignment is to be solved by yourself, without the use of AI and chatbots.\n",
    "- If chatbot usage is detected, the penalty that is discussed in Week 1 slides will apply.\n",
    "- Each code block will have a Todo comment which explains the functionality, expected input, and expected output of the function.\n",
    "- There are 10 marks in this assignment for assuring that the code couldn't be broken (no errors can be thrown, please consider mathematical and logical errors)\n",
    "- There are 10 marks in this assignment for commenting and code readability.\n"
   ]
  },
  {
   "cell_type": "markdown",
   "metadata": {},
   "source": [
    "### Part 1: Python Basics"
   ]
  },
  {
   "cell_type": "markdown",
   "metadata": {},
   "source": [
    "#### Question 1:"
   ]
  },
  {
   "cell_type": "code",
   "execution_count": 2,
   "metadata": {},
   "outputs": [
    {
     "name": "stdout",
     "output_type": "stream",
     "text": [
      "Price : 100.00 \t\t\t Tax : 0.10 (10%)  \t\t Taxed Price : 110.0\n",
      "Price : 1270.00 \t\t Tax : 0.12 (12%)  \t\t taxed Price : 1422.4\n",
      "Price : 10786.00 \t\t Tax : 0.153 (15.3%)  \t\t taxed Price : 12436.258\n",
      "Price : 85.00 \t\t\t Tax : 0.6678 (66.78%)  \t taxed Price : 141.763\n"
     ]
    }
   ],
   "source": [
    "\n",
    "def total_price(price, tax):\n",
    "    # 3 marks\n",
    "    # TODO: write the functionality of the code where\n",
    "    #  you are taking as an input a price of an item and the\n",
    "    #  tax in decimal (13% tax will be given as 0.13),\n",
    "    #  you should return the taxedPrice of that item\n",
    "    #  which will be the total price after tax a customer must pay\n",
    "    # (The price of the item plus the applicable taxes)\n",
    "\n",
    "    # Taxes price = Price + ( tax percentage or price )\n",
    "    # Here, Tax is passed as 0.xx so no need to device by 100 \n",
    "    return float(price + tax*price)\n",
    "\n",
    "print(f\"Price : 100.00 \\t\\t\\t Tax : 0.10 (10%)  \\t\\t Taxed Price : { total_price(100,0.10)}\")\n",
    "print(f\"Price : 1270.00 \\t\\t Tax : 0.12 (12%)  \\t\\t taxed Price : { total_price(1270,0.12)}\")\n",
    "print(f\"Price : 10786.00 \\t\\t Tax : 0.153 (15.3%)  \\t\\t taxed Price : { total_price(10786,0.153)}\")\n",
    "print(f\"Price : 85.00 \\t\\t\\t Tax : 0.6678 (66.78%)  \\t taxed Price : { total_price(85,0.6678)}\")\n",
    "\n"
   ]
  },
  {
   "cell_type": "markdown",
   "metadata": {},
   "source": [
    "#### Question 2:"
   ]
  },
  {
   "cell_type": "code",
   "execution_count": 3,
   "metadata": {},
   "outputs": [
    {
     "name": "stdout",
     "output_type": "stream",
     "text": [
      "x = 10 \t\t y = 10 \t division : True\n",
      "x = 10 \t\t y = 0 \t\t division : False\n",
      "x = 0 \t\t y = 10 \t division : False\n",
      "x = 40 \t\t y = 32 \t division : True\n",
      "x = 192 \t y = 4 \t\t division : True\n",
      "x = abc \t y = a \t\t division : False\n",
      "x = 100 \t y = a \t\t division : False\n"
     ]
    }
   ],
   "source": [
    "def divisible_by(x, y):\n",
    "    # 3 marks\n",
    "    # TODO: write a function that returns True if x is divisible by y,\n",
    "    #  and returns False OTHERWISE (all other cases).\n",
    "    try:\n",
    "        # Check if value can be parsed in float \n",
    "        x = float(x)\n",
    "        y = float(y)\n",
    "        # Check if y is not 0 as divide by 0 = infinate throws exception\n",
    "        if(y!=0):\n",
    "            return True\n",
    "        else:\n",
    "            return False\n",
    "    except ValueError:\n",
    "        return False\n",
    "\n",
    "print(f\"x = 10 \\t\\t y = 10 \\t division : {divisible_by(10,10)}\")\n",
    "print(f\"x = 10 \\t\\t y = 0 \\t\\t division : {divisible_by(10,0)}\")\n",
    "print(f\"x = 0 \\t\\t y = 10 \\t division : {divisible_by(10,0)}\")\n",
    "print(f\"x = 40 \\t\\t y = 32 \\t division : {divisible_by(40,32)}\")\n",
    "print(f\"x = 192 \\t y = 4 \\t\\t division : {divisible_by(192,4)}\")\n",
    "print(f\"x = abc \\t y = a \\t\\t division : {divisible_by('abc','a')}\")\n",
    "print(f\"x = 100 \\t y = a \\t\\t division : {divisible_by(100,'a')}\")"
   ]
  },
  {
   "cell_type": "markdown",
   "metadata": {},
   "source": [
    "#### Question 3:"
   ]
  },
  {
   "cell_type": "code",
   "execution_count": 4,
   "metadata": {},
   "outputs": [
    {
     "name": "stdout",
     "output_type": "stream",
     "text": [
      " x \t: 10 \n",
      " y \t: 15 \n",
      " op \t: +\n",
      "Output : 10.0 + 15.0 = 25.0 \n",
      "\n",
      " x \t: 10 \n",
      " y \t: 15 \n",
      " op \t: -\n",
      "Output : 10.0 - 15.0 = -5.0 \n",
      "\n",
      " x \t: 10 \n",
      " y \t: 15 \n",
      " op \t: *\n",
      "Output : 10.0 * 15.0 = 150.0 \n",
      "\n",
      " x \t: 10 \n",
      " y \t: 15 \n",
      " op \t: /\n",
      "Output : 10.0 / 15.0 = 0.6666666666666666 \n",
      "\n",
      " x \t: 10 \n",
      " y \t: 0 \n",
      " op \t: /\n",
      "Output : error : unable to divide by 0 \n",
      "\n",
      " x \t: a \n",
      " y \t: 15 \n",
      " op \t: +\n",
      "Output : x and y must be integer or decimal values \n",
      "\n",
      " x \t: a \n",
      " y \t: a \n",
      " op \t: +\n",
      "Output : x and y must be integer or decimal values \n",
      "\n"
     ]
    }
   ],
   "source": [
    "def basic_calculator(x, y, operator):\n",
    "    # 5 marks\n",
    "    # TODO: write the functionality of the code where you are\n",
    "    #  coding a basic calculator that performs basic addition \"+\", subtraction \"-\",\n",
    "    #  multiplication \"*\", division \"/\", modulus \"%\" and integer division \"//\"\n",
    "    #  the function must apply the operator to x and y for example:\n",
    "    #  basicCalculator(10, 15, \"*\") should apply 10*15 and save it to the result variable\n",
    "    #  NOTE: YOU NEED TO HANDLE DIVISION ERRORS BY RETURNING A STRING WITH THE WORD \"error\"\n",
    "    #  NOTE: YOU NEED TO HANDLE AN INVALID OPERATOR BY RETURNING A STRING HAVING THE WORD \"invalid\"\n",
    "\n",
    "    print(f\" x \\t: {x} \\r\\n y \\t: {y} \\r\\n op \\t: {operator}\")\n",
    "    try:\n",
    "        # Check if value can be parsed in float \n",
    "        x = float(x)\n",
    "        y = float(y)\n",
    "    except ValueError:\n",
    "        return \"x and y must be integer or decimal values\"\n",
    "    result = 0\n",
    "    if operator == '+':\n",
    "        result = x + y\n",
    "    elif operator == '-':\n",
    "        result = x - y\n",
    "    elif operator == '*':\n",
    "        result = x * y\n",
    "    elif operator == '/':\n",
    "        if(y==0):\n",
    "            return \"error : unable to divide by 0\" \n",
    "        result = x / y\n",
    "    else:\n",
    "        return \"Invalid Operator : Allowed operator are addition '+', subtraction '-', multiplication '*' and division '/'\"\n",
    "\n",
    "    return f\"{x} {operator} {y} = {result}\"\n",
    "\n",
    "\n",
    "print(f\"Output : {basic_calculator(10,15,'+')} \\r\\n\")\n",
    "print(f\"Output : {basic_calculator(10,15,'-')} \\r\\n\")\n",
    "print(f\"Output : {basic_calculator(10,15,'*')} \\r\\n\")\n",
    "print(f\"Output : {basic_calculator(10,15,'/')} \\r\\n\")\n",
    "print(f\"Output : {basic_calculator(10,0,'/')} \\r\\n\")\n",
    "print(f\"Output : {basic_calculator('a',15,'+')} \\r\\n\")\n",
    "print(f\"Output : {basic_calculator('a','a','+')} \\r\\n\")"
   ]
  },
  {
   "cell_type": "markdown",
   "metadata": {},
   "source": [
    "#### Question 4:"
   ]
  },
  {
   "cell_type": "code",
   "execution_count": 5,
   "metadata": {},
   "outputs": [
    {
     "name": "stdout",
     "output_type": "stream",
     "text": [
      "Sum of valid even input numbers : 12.0\n",
      "invalid input : a\n",
      "invalid input : ls\n",
      "Sum of valid even input numbers : 84.0\n"
     ]
    },
    {
     "data": {
      "text/plain": [
       "0"
      ]
     },
     "execution_count": 5,
     "metadata": {},
     "output_type": "execute_result"
    }
   ],
   "source": [
    "def sum_of_even(numbers_list):\n",
    "    # 3 marks\n",
    "    # TODO: write the functionality of the code where you are\n",
    "    # taking as an input a list of numbers\n",
    "    # returning the sum of even numbers in the list\n",
    "    # NOTE: YOU NEED TO HANDLE ERRORS OF GIVING LIST OF STRINGS OR/AND\n",
    "    #  STRINGS WITH NUMBERS by returning \"invalid\"\n",
    "    # sum_of_even([1,2,3,4,5,6]) = 12\n",
    "    \n",
    "    sum = 0\n",
    "    for n in numbers_list:\n",
    "        try:\n",
    "            # Check if input is number\n",
    "            n = float(n)\n",
    "            # Check if number is even\n",
    "            if(n%2 ==0):\n",
    "                sum += float(n)\n",
    "        except:\n",
    "            # Print invalid input\n",
    "            print(f\"invalid input : {n}\")\n",
    "    \n",
    "    # Print result\n",
    "    print(f\"Sum of valid even input numbers : {sum}\")\n",
    "    return 0\n",
    "\n",
    "sum_of_even([1,2,3,4,5,6])\n",
    "sum_of_even([1,'a',8,'ls',5,76])"
   ]
  },
  {
   "cell_type": "markdown",
   "metadata": {},
   "source": [
    "#### Question 5:"
   ]
  },
  {
   "cell_type": "code",
   "execution_count": 6,
   "metadata": {},
   "outputs": [
    {
     "name": "stdout",
     "output_type": "stream",
     "text": [
      "olleh\n",
      "321olleh\n",
      "0987654321\n"
     ]
    }
   ],
   "source": [
    "def reverse_string(input_string):\n",
    "    # 3 marks\n",
    "    # TODO: write the functionality of the code where you are\n",
    "    # taking as an input a string\n",
    "    # returns the reverse of the string\n",
    "    # reverse_string(\"hello\") = \"olleh\"\n",
    "    # NOTE: Numbers should be handled as strings ex: 123 returns \"321\"\n",
    "    return str(input_string)[::-1]\n",
    "\n",
    "\n",
    "print(reverse_string(\"hello\"))\n",
    "print(reverse_string(\"hello123\"))\n",
    "print(reverse_string(1234567890))\n"
   ]
  },
  {
   "cell_type": "markdown",
   "metadata": {},
   "source": [
    "#### Question 6:"
   ]
  },
  {
   "cell_type": "code",
   "execution_count": 7,
   "metadata": {},
   "outputs": [
    {
     "name": "stdout",
     "output_type": "stream",
     "text": [
      "Input length : 5\n",
      "  *\n",
      " ***\n",
      "*****\n",
      " ***\n",
      "  *\n",
      "\n",
      "Input length : 13\n",
      "      *\n",
      "     ***\n",
      "    *****\n",
      "   *******\n",
      "  *********\n",
      " ***********\n",
      "*************\n",
      " ***********\n",
      "  *********\n",
      "   *******\n",
      "    *****\n",
      "     ***\n",
      "      *\n",
      "\n",
      "Input length : 6\n",
      "Invalid input : Only odd numbers can function\n",
      "Input length : abc\n",
      "Invalid input : Only odd numbers can function\n"
     ]
    }
   ],
   "source": [
    "def diamond_string(length):\n",
    "    # 5 marks\n",
    "    # TODO: write the functionality of the code where you are\n",
    "    # taking as an input a POSITIVE ODD length\n",
    "    # saves in a string the diamond as follows:\n",
    "    # diamond_string(5)\n",
    "    #   *\n",
    "    #  ***\n",
    "    # *****\n",
    "    #  ***\n",
    "    #   *\n",
    "    # NOTE: The input must be positive odd, if not return empty string \"\" \n",
    "    print(f\"Input length : {length}\")\n",
    "    \n",
    "    if(type(length)!=int or length%2==0):\n",
    "        return \"Invalid input : Only odd numbers can function\"\n",
    "    \n",
    "    diamond_str=\"\"\n",
    "    # Incremental loop for first 50% tringle  \n",
    "    for n in range(1,length+1,2):\n",
    "        row = \"\"\n",
    "        # for loop logic for space \n",
    "        for l in range(length-(n+1),0,-2):\n",
    "            row+=\" \"\n",
    "        # for loop logic for * \n",
    "        for k in range(1,n+1):\n",
    "            row+=\"*\"\n",
    "        diamond_str += row + \"\\r\\n\"\n",
    "    \n",
    "    # Decremental loop for reverse 50% tringle  \n",
    "    for n in range(length-2,0,-2):\n",
    "        row = \"\"\n",
    "        # for loop logic for space \n",
    "        for l in range(length-(n+1),0,-2):\n",
    "            row+=\" \"\n",
    "        # for loop logic for *\n",
    "        for k in range(1,n+1):\n",
    "            row+=\"*\"\n",
    "        diamond_str += row + \"\\r\\n\"\n",
    "\n",
    "    return diamond_str\n",
    "\n",
    "\n",
    "print(diamond_string(5))\n",
    "print(diamond_string(13))\n",
    "print(diamond_string(6))\n",
    "print(diamond_string(\"abc\"))\n"
   ]
  },
  {
   "cell_type": "code",
   "execution_count": null,
   "metadata": {},
   "outputs": [],
   "source": []
  },
  {
   "cell_type": "markdown",
   "metadata": {},
   "source": [
    "#### Question 7:"
   ]
  },
  {
   "cell_type": "code",
   "execution_count": 8,
   "metadata": {},
   "outputs": [
    {
     "name": "stdout",
     "output_type": "stream",
     "text": [
      "\n",
      "Input\t : [100, 4, 200, 1, 3, 2]\n",
      "Sorted\t : [1, 2, 3, 4, 100, 200]\n",
      "longest consecutive subarray : 4\n",
      "\n",
      "Input\t : [21, 91, 71, 92, 72, 209, 22, 208, 73, 23, 90, 93, 207, 95, 210, 99, 94, 206]\n",
      "Sorted\t : [21, 22, 23, 71, 72, 73, 90, 91, 92, 93, 94, 95, 99, 206, 207, 208, 209, 210]\n",
      "longest consecutive subarray : 6\n"
     ]
    }
   ],
   "source": [
    "def longest_consecutive_subarray(number_array):\n",
    "    # 8 marks\n",
    "    # TODO: write the functionality of the code where you are\n",
    "    # taking as an input an array of REAL NUMBERS\n",
    "    # return the length of the longest subarray that could be\n",
    "    # built using the input\n",
    "    # longest_consecutive_subarray([100, 4, 200, 1, 3, 2]) = 4\n",
    "    # Function should return 4 which represents in this case\n",
    "    # the longest_consecutive_subarray that could be built [1,2,3,4]\n",
    "    # You can't use Built in Sorting!\n",
    "    # Note: - If any error exists in the input, \"error\" should be returned\n",
    "    #       - The difference between any 2 consecuetive numbers is 1.\n",
    "\n",
    "    print(f\"\\r\\nInput\\t : {number_array}\")\n",
    "    # Numbers which are already checked\n",
    "    ignore_list = []\n",
    "    # count for each set if consicutive numbers\n",
    "    searies_list = []\n",
    "    # Consider minimum length of series is 1\n",
    "    lcs = 1\n",
    "    while(len(number_array)>0):\n",
    "        # Find minimum \n",
    "        min_value = min(number_array)\n",
    "        # Next consicutive number is found in original list so increment length of current series\n",
    "        if(len(ignore_list)>0 and ignore_list[-1]+1 == min_value):\n",
    "            lcs +=1\n",
    "        else: # add length of last series in available lengths and reset length variable to 1 \n",
    "            searies_list.append(lcs)\n",
    "            lcs=1\n",
    "        # Remove minimum value from original array and push it to another array to reduce itrations\n",
    "        ignore_list.append(min_value)\n",
    "        number_array.remove(min_value)\n",
    "    # Print sorted data - for testing\n",
    "    print(f\"Sorted\\t : {ignore_list}\")\n",
    "    return max(searies_list)\n",
    "\n",
    "print(f\"longest consecutive subarray : { longest_consecutive_subarray([100, 4, 200, 1, 3, 2])}\")\n",
    "print(f\"longest consecutive subarray : { longest_consecutive_subarray([21,91, 71,92, 72,209, 22,208, 73, 23, 90,93,207,95,210,99,94,206])}\")"
   ]
  },
  {
   "cell_type": "markdown",
   "metadata": {},
   "source": [
    "#### Question 8 (Challenging):"
   ]
  },
  {
   "cell_type": "code",
   "execution_count": 9,
   "metadata": {},
   "outputs": [
    {
     "name": "stdout",
     "output_type": "stream",
     "text": [
      "\n",
      "Input String \t\t: applepenapple\n",
      "Word Disctionary \t: {'apple', 'pen'}\n",
      "Result \t\t\t : True\n",
      "\n",
      "Input String \t\t: catsandog\n",
      "Word Disctionary \t: {'sand', 'and', 'cat', 'dog', 'cats'}\n",
      "Result \t\t\t : False\n"
     ]
    }
   ],
   "source": [
    "def can_be_segmented(input_string, word_dict):\n",
    "    # 15 marks\n",
    "    # TODO: Write the functionality of the code where you\n",
    "    # are given as an input a string and a word_dict\n",
    "    # Your target is to return True, if input_string can be segmented\n",
    "    # (broken-down) into a sequence of one or more dictionary words\n",
    "    # otherwise return False\n",
    "    # Sample Input: can_be_segmented(\"applepenapple\", {'apple','pen'}) ==> True\n",
    "    # Sample Input: can_be_segmented(\"catsandog\", {'cats','dog','sand','and','cat'}) ==> False\n",
    "    # Hint: You can start by checking which prefix exist in the dictionary, and call the same function recursively\n",
    "    # on the remaining string.\n",
    "    print(f\"\\r\\nInput String \\t\\t: {input_string}\")\n",
    "    print(f\"Word Disctionary \\t: {word_dict}\")\n",
    "\n",
    "    for word in word_dict:\n",
    "        if(input_string.find(word)>=0):\n",
    "            input_string = input_string.replace(word,\"\")\n",
    "        else:\n",
    "            return False\n",
    "    return True\n",
    "\n",
    "print(f\"Result \\t\\t\\t : {can_be_segmented(\"applepenapple\", {'apple','pen'})}\")\n",
    "print(f\"Result \\t\\t\\t : {can_be_segmented(\"catsandog\", {'cats','dog','sand','and','cat'})}\")"
   ]
  },
  {
   "cell_type": "markdown",
   "metadata": {},
   "source": [
    "### Part 2: Numpy Basics: \n",
    "- In this Part of the assignment, you are <b>ONLY ALLOWED</b> to use Numpy and its functions. \n",
    "- You are not expected to use Loops."
   ]
  },
  {
   "cell_type": "code",
   "execution_count": 10,
   "metadata": {},
   "outputs": [],
   "source": [
    "import numpy as np"
   ]
  },
  {
   "cell_type": "markdown",
   "metadata": {},
   "source": [
    "#### Question 9:"
   ]
  },
  {
   "cell_type": "code",
   "execution_count": 11,
   "metadata": {},
   "outputs": [
    {
     "name": "stdout",
     "output_type": "stream",
     "text": [
      "\n",
      "Input : [1 2 3 4 5 6 0]\n",
      "Array has Zeroes : True\n",
      "\n",
      "Input : [1 2 3 4 5 6]\n",
      "Array has Zeroes : False\n"
     ]
    }
   ],
   "source": [
    "def no_zeros(array_input):\n",
    "    # 3 marks\n",
    "    ## TODO: This function should return True if \n",
    "    ## numpy array arrayInput does not contain any zero\n",
    "    ## and will return False otherwise.\n",
    "    ## Implement this function using ONLY numpy methods\n",
    "    ## Sample input: np.array([1,2,3,4,5,6,0]) Sample Output: False\n",
    "    ## Sample input: np.array([1,2,3,4,5,6]) Sample Output: True\n",
    "    print(f\"\\r\\nInput : {array_input}\")\n",
    "    return (0 in array_input)\n",
    "\n",
    "print(f\"Array has Zeroes : {no_zeros(np.array([1,2,3,4,5,6,0]))}\")\n",
    "print(f\"Array has Zeroes : {no_zeros(np.array([1,2,3,4,5,6]))}\")"
   ]
  },
  {
   "cell_type": "markdown",
   "metadata": {},
   "source": [
    "#### Question 10:"
   ]
  },
  {
   "cell_type": "code",
   "execution_count": 12,
   "metadata": {},
   "outputs": [
    {
     "name": "stdout",
     "output_type": "stream",
     "text": [
      "\n",
      "Array : 2 x 2\n",
      "[[1. 1.]\n",
      " [1. 1.]]\n",
      "\n",
      "Array : 3 x 3\n",
      "[[1. 1. 1.]\n",
      " [1. 0. 1.]\n",
      " [1. 1. 1.]]\n",
      "\n",
      "Array : 6 x 6\n",
      "[[1. 1. 1. 1. 1. 1.]\n",
      " [1. 0. 0. 0. 0. 1.]\n",
      " [1. 0. 0. 0. 0. 1.]\n",
      " [1. 0. 0. 0. 0. 1.]\n",
      " [1. 0. 0. 0. 0. 1.]\n",
      " [1. 1. 1. 1. 1. 1.]]\n"
     ]
    }
   ],
   "source": [
    "def two_dimensions(n):\n",
    "    # 7 marks\n",
    "    ## TODO: This function should create a 2d Array of shape n*n for any positive number\n",
    "    ## Where the borders of the array are ones\n",
    "    ## all other elements are zero\n",
    "    ## Implement this function using ONLY numpy methods\n",
    "    ## Sample input 3\n",
    "    ## sample output [[1,1,1],[1,0,1],[1,1,1]]\n",
    "    print(f\"\\r\\nArray : {n} x {n}\")\n",
    "    result = np.ones((n,n))\n",
    "    result[1:-1, 1:-1] = 0\n",
    "    return result\n",
    "\n",
    "print(two_dimensions(2))\n",
    "print(two_dimensions(3))\n",
    "print(two_dimensions(6))\n",
    "    "
   ]
  },
  {
   "cell_type": "markdown",
   "metadata": {},
   "source": [
    "#### Question 11:"
   ]
  },
  {
   "cell_type": "code",
   "execution_count": 28,
   "metadata": {},
   "outputs": [
    {
     "name": "stdout",
     "output_type": "stream",
     "text": [
      "\n",
      "n : 3 \t\t min : 0\t\tmax : 12\n",
      "Random Array : 3 x 3 \n",
      "[[ 1  2  8]\n",
      " [10  5  7]\n",
      " [11  0  3]]\n",
      "\n",
      "n : 5 \t\t min : 10\t\tmax : 122\n",
      "Random Array : 5 x 5 \n",
      "[[ 63  77  75  43  13]\n",
      " [ 36  19 119  99  18]\n",
      " [ 11  28  32  21  12]\n",
      " [ 91  79 116  57  22]\n",
      " [ 23  35 104  97  84]]\n"
     ]
    }
   ],
   "source": [
    "def random_generation(n,min,max):\n",
    "    # 5 marks\n",
    "    # TODO: Write a function that takes as an input\n",
    "    # Dimension of 2d Array n, min and max\n",
    "    # Generate an n*n array with random numbers between\n",
    "    # min and max inclusive\n",
    "    # Such that no element is duplicated\n",
    "    # return numpy array\n",
    "    # Implement this function using ONLY numpy methods\n",
    "    # Sample Input: random_generation(3,0,12) --> [[4,2,6],[1,5,11],[10, 3,9]]f\n",
    "    print(f\"\\r\\nn : { n } \\t\\t min : {min}\\t\\tmax : {max}\")\n",
    "    # create random unique numbers array\n",
    "    unique_random_numbers = np.random.choice(range(min, max), size=(n*n), replace=False)\n",
    "    # Split the array\n",
    "    return np.array(np.hsplit(unique_random_numbers,n))\n",
    "\n",
    "print(f\"Random Array : {3} x {3} \\r\\n{random_generation(3,0,12)}\")\n",
    "print(f\"Random Array : {5} x {5} \\r\\n{random_generation(5,10,122)}\")"
   ]
  },
  {
   "cell_type": "markdown",
   "metadata": {},
   "source": [
    "#### Question 12:"
   ]
  },
  {
   "cell_type": "code",
   "execution_count": 38,
   "metadata": {},
   "outputs": [
    {
     "name": "stdout",
     "output_type": "stream",
     "text": [
      "\n",
      " Input :\n",
      "[[1 2 3]\n",
      " [4 5 6]\n",
      " [7 8 9]]\n",
      "Sum : 40\n",
      "\n",
      " Input :\n",
      "[[1 1 1 1]\n",
      " [1 1 1 1]\n",
      " [1 1 1 1]\n",
      " [1 1 1 1]]\n",
      "Sum : 12\n"
     ]
    }
   ],
   "source": [
    "def matrix_border_sum(matrix):\n",
    "    # 8 marks\n",
    "    # TODO: Write a function that takes as an input a matrix\n",
    "    # and return the sum of all elements in the borders\n",
    "    # Implement this function using ONLY numpy methods\n",
    "    # Sample Input: np.array([[1,2,3],\n",
    "    #                         [4,5,6],\n",
    "    #                         [7,8,9]])\n",
    "    # Output: matrix_border_sum(matrix) =  1+2+3+4+6+7+8+9 = 40\n",
    "    print(f\"\\r\\n Input :\\r\\n{matrix}\")\n",
    "    return (np.sum(matrix[0]) + np.sum(matrix[-1]) + np.sum(matrix[1:-1,[0]]) + np.sum(matrix[1:-1,[-1]]))\n",
    "\n",
    "print(f\"Sum : {matrix_border_sum(np.array([[1,2,3],\n",
    "                            [4,5,6],\n",
    "                            [7,8,9]]))}\")\n",
    "\n",
    "print(f\"Sum : {matrix_border_sum(np.array([[1,1,1,1],\n",
    "                            [1,1,1,1],\n",
    "                            [1,1,1,1],\n",
    "                            [1,1,1,1]]))}\")\n"
   ]
  },
  {
   "cell_type": "markdown",
   "metadata": {},
   "source": [
    "### Part 3: Pandas"
   ]
  },
  {
   "cell_type": "code",
   "execution_count": 15,
   "metadata": {},
   "outputs": [],
   "source": [
    "import pandas as pd"
   ]
  },
  {
   "cell_type": "markdown",
   "metadata": {},
   "source": [
    "#### Question 13 (12 marks): \n",
    "- Using RegularSeasonCompactResults.csv and Teams.csv apply the following functionalities"
   ]
  },
  {
   "cell_type": "code",
   "execution_count": 59,
   "metadata": {},
   "outputs": [
    {
     "name": "stdout",
     "output_type": "stream",
     "text": [
      "Draw matches count : 0\n"
     ]
    }
   ],
   "source": [
    "# Using RegularSeasonCompactResults.csv\n",
    "# 1- Create a filter to show if there are any draw matches\n",
    "# 2- Apply the filter to the dataframe\n",
    "# 3- SHOW/PRINT the dataframe length or count (4 marks)\n",
    "## TODO: Your code should be here\n",
    "\n",
    "team_data = pd.read_csv('./Dataset/Teams.csv')\n",
    "score_data = pd.read_csv('./Dataset/RegularSeasonCompactResults.csv')\n",
    "\n",
    "draw_filter = score_data['Wscore'] == score_data['Lscore']\n",
    "print(f\"Draw matches count : {len(score_data[draw_filter])}\")\n"
   ]
  },
  {
   "cell_type": "code",
   "execution_count": 63,
   "metadata": {},
   "outputs": [
    {
     "name": "stdout",
     "output_type": "stream",
     "text": [
      "        Season  Daynum  Wteam  Wscore  Lteam  Lscore Wloc  Numot\n",
      "123988    2013       5   1325      81   1339      52    H      0\n",
      "124242    2013      11   1325      85   1423      47    H      0\n",
      "124369    2013      13   1325      73   1459      50    H      0\n",
      "124465    2013      15   1325      75   1214      67    H      0\n",
      "124658    2013      19   1325      73   1350      48    H      0\n",
      "124800    2013      23   1325      69   1382      64    H      0\n",
      "125200    2013      33   1325      78   1324      61    H      0\n",
      "125653    2013      47   1325      93   1271      57    H      0\n",
      "126118    2013      61   1325      94   1267      57    H      0\n",
      "126256    2013      65   1325      86   1138      68    H      0\n",
      "126435    2013      68   1325      61   1444      59    A      0\n",
      "126574    2013      72   1325      81   1296      63    H      0\n",
      "126758    2013      75   1325      76   1405      67    H      0\n",
      "126899    2013      79   1325      74   1275      62    A      0\n",
      "127082    2013      82   1325      69   1245      68    A      0\n",
      "127533    2013      93   1325      69   1123      42    A      0\n",
      "127716    2013      96   1325      72   1132      63    H      0\n",
      "127864    2013     100   1325      82   1141      63    A      0\n",
      "128047    2013     103   1325      78   1245      75    H      1\n",
      "128206    2013     107   1325      73   1185      50    H      0\n",
      "128675    2013     117   1325      78   1132      65    A      0\n",
      "128776    2013     120   1325      72   1138      69    A      0\n",
      "128972    2013     124   1325      58   1275      54    H      0\n",
      "129160    2013     130   1325      74   1444      63    N      0\n"
     ]
    }
   ],
   "source": [
    "# Using RegularSeasonCompactResults.csv\n",
    "# 1- Create a filter showing the entries where the winningteamID= 1400- (last two digits of your id)\n",
    "# 2- Create another filter for the season of 2013\n",
    "# 3- Apply the filter to the dataframe\n",
    "# 4- Show the resulted dataframe (4 marks)\n",
    "# (Example: IF your id is 8000021, the winning team id = 1400-21= 1379)\n",
    "# TODO: Your code should be here\n",
    "\n",
    "winningTeam_filter = score_data['Wteam'] == (1400-75)\n",
    "season_filter = score_data['Season'] == 2013\n",
    "result = score_data[season_filter & winningTeam_filter]\n",
    "print(result)\n"
   ]
  },
  {
   "cell_type": "code",
   "execution_count": 62,
   "metadata": {},
   "outputs": [
    {
     "data": {
      "text/html": [
       "<div>\n",
       "<style scoped>\n",
       "    .dataframe tbody tr th:only-of-type {\n",
       "        vertical-align: middle;\n",
       "    }\n",
       "\n",
       "    .dataframe tbody tr th {\n",
       "        vertical-align: top;\n",
       "    }\n",
       "\n",
       "    .dataframe thead th {\n",
       "        text-align: right;\n",
       "    }\n",
       "</style>\n",
       "<table border=\"1\" class=\"dataframe\">\n",
       "  <thead>\n",
       "    <tr style=\"text-align: right;\">\n",
       "      <th></th>\n",
       "      <th>Season</th>\n",
       "      <th>Daynum</th>\n",
       "      <th>Wteam</th>\n",
       "      <th>Wscore</th>\n",
       "      <th>Lteam</th>\n",
       "      <th>Lscore</th>\n",
       "      <th>Wloc</th>\n",
       "      <th>Numot</th>\n",
       "      <th>Team_Id</th>\n",
       "      <th>Team_Name</th>\n",
       "    </tr>\n",
       "  </thead>\n",
       "  <tbody>\n",
       "    <tr>\n",
       "      <th>0</th>\n",
       "      <td>1985</td>\n",
       "      <td>20</td>\n",
       "      <td>1228</td>\n",
       "      <td>81</td>\n",
       "      <td>1328</td>\n",
       "      <td>64</td>\n",
       "      <td>N</td>\n",
       "      <td>0</td>\n",
       "      <td>1228</td>\n",
       "      <td>Illinois</td>\n",
       "    </tr>\n",
       "    <tr>\n",
       "      <th>1</th>\n",
       "      <td>1985</td>\n",
       "      <td>25</td>\n",
       "      <td>1106</td>\n",
       "      <td>77</td>\n",
       "      <td>1354</td>\n",
       "      <td>70</td>\n",
       "      <td>H</td>\n",
       "      <td>0</td>\n",
       "      <td>1106</td>\n",
       "      <td>Alabama St</td>\n",
       "    </tr>\n",
       "    <tr>\n",
       "      <th>2</th>\n",
       "      <td>1985</td>\n",
       "      <td>25</td>\n",
       "      <td>1112</td>\n",
       "      <td>63</td>\n",
       "      <td>1223</td>\n",
       "      <td>56</td>\n",
       "      <td>H</td>\n",
       "      <td>0</td>\n",
       "      <td>1112</td>\n",
       "      <td>Arizona</td>\n",
       "    </tr>\n",
       "  </tbody>\n",
       "</table>\n",
       "</div>"
      ],
      "text/plain": [
       "   Season  Daynum  Wteam  Wscore  Lteam  Lscore Wloc  Numot  Team_Id  \\\n",
       "0    1985      20   1228      81   1328      64    N      0     1228   \n",
       "1    1985      25   1106      77   1354      70    H      0     1106   \n",
       "2    1985      25   1112      63   1223      56    H      0     1112   \n",
       "\n",
       "    Team_Name  \n",
       "0    Illinois  \n",
       "1  Alabama St  \n",
       "2     Arizona  "
      ]
     },
     "execution_count": 62,
     "metadata": {},
     "output_type": "execute_result"
    }
   ],
   "source": [
    "# Using RegularSeasonCompactResults.csv & Teams.csv\n",
    "# 1- Load and merge both dataframes\n",
    "# 2- Where the merge is on WinningTeamId (RegularSeasonCompactResults) and TeamId (Teams.csv)\n",
    "# 3- Name the dataframe: DFCombined\n",
    "# 4- Show the top 3 rows (4 marks)\n",
    "# TODO: Your code should be here\n",
    "\n",
    "joined_data = pd.merge(score_data,team_data,left_on=\"Wteam\",right_on='Team_Id', how='inner')\n",
    "joined_data.head(3)\n",
    "# print(joined_data)"
   ]
  },
  {
   "cell_type": "markdown",
   "metadata": {},
   "source": [
    "### References\n",
    "\n",
    "Numpy.ones — NumPy v2.1 Manual. (n.d.). https://numpy.org/doc/stable/reference/generated/numpy.ones.html\n"
   ]
  }
 ],
 "metadata": {
  "kernelspec": {
   "display_name": "Python 3",
   "language": "python",
   "name": "python3"
  },
  "language_info": {
   "codemirror_mode": {
    "name": "ipython",
    "version": 3
   },
   "file_extension": ".py",
   "mimetype": "text/x-python",
   "name": "python",
   "nbconvert_exporter": "python",
   "pygments_lexer": "ipython3",
   "version": "3.12.6"
  }
 },
 "nbformat": 4,
 "nbformat_minor": 2
}
